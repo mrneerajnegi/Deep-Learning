{
 "cells": [
  {
   "cell_type": "code",
   "execution_count": 65,
   "id": "8fbf54e8",
   "metadata": {},
   "outputs": [],
   "source": [
    "import pandas as pd\n",
    "import numpy as np\n",
    "%matplotlib inline\n",
    "import matplotlib.pyplot as plt\n",
    "from sklearn.datasets import make_blobs\n",
    "from sklearn.preprocessing import MinMaxScaler"
   ]
  },
  {
   "cell_type": "code",
   "execution_count": 5,
   "id": "c5cc0b36",
   "metadata": {},
   "outputs": [],
   "source": [
    "dataset=make_blobs(n_samples=300,n_features=2,centers=2)"
   ]
  },
  {
   "cell_type": "code",
   "execution_count": 26,
   "id": "a16d8012",
   "metadata": {},
   "outputs": [],
   "source": [
    "X,y =dataset"
   ]
  },
  {
   "cell_type": "code",
   "execution_count": 39,
   "id": "3f6c8716",
   "metadata": {},
   "outputs": [
    {
     "data": {
      "text/plain": [
       "(300, 2)"
      ]
     },
     "execution_count": 39,
     "metadata": {},
     "output_type": "execute_result"
    }
   ],
   "source": [
    "df=pd.DataFrame(X)\n",
    "X.shape"
   ]
  },
  {
   "cell_type": "code",
   "execution_count": 41,
   "id": "5c755bff",
   "metadata": {},
   "outputs": [
    {
     "data": {
      "text/plain": [
       "<matplotlib.collections.PathCollection at 0x7fbb7050b640>"
      ]
     },
     "execution_count": 41,
     "metadata": {},
     "output_type": "execute_result"
    },
    {
     "data": {
      "image/png": "[encoded data removed]",
      "text/plain": [
       "<Figure size 432x288 with 1 Axes>"
      ]
     },
     "metadata": {
      "needs_background": "light"
     },
     "output_type": "display_data"
    }
   ],
   "source": [
    "plt.scatter(df[0],df[1],c=y)"
   ]
  },
  {
   "cell_type": "code",
   "execution_count": 42,
   "id": "d34aeb96",
   "metadata": {},
   "outputs": [],
   "source": [
    "z_noise=np.random.normal(size=len(X))\n",
    "z_series=pd.Series(z_noise)"
   ]
  },
  {
   "cell_type": "code",
   "execution_count": 43,
   "id": "2a2180cd",
   "metadata": {},
   "outputs": [],
   "source": [
    "df=pd.concat([df,z_series],axis=1)"
   ]
  },
  {
   "cell_type": "code",
   "execution_count": 44,
   "id": "d24a2cbe",
   "metadata": {},
   "outputs": [],
   "source": [
    "df.columns=[\"X1\",\"X2\",\"X3\"]"
   ]
  },
  {
   "cell_type": "code",
   "execution_count": 45,
   "id": "d9661f50",
   "metadata": {},
   "outputs": [
    {
     "data": {
      "text/html": [
       "<div>\n",
       "<style scoped>\n",
       "    .dataframe tbody tr th:only-of-type {\n",
       "        vertical-align: middle;\n",
       "    }\n",
       "\n",
       "    .dataframe tbody tr th {\n",
       "        vertical-align: top;\n",
       "    }\n",
       "\n",
       "    .dataframe thead th {\n",
       "        text-align: right;\n",
       "    }\n",
       "</style>\n",
       "<table border=\"1\" class=\"dataframe\">\n",
       "  <thead>\n",
       "    <tr style=\"text-align: right;\">\n",
       "      <th></th>\n",
       "      <th>X1</th>\n",
       "      <th>X2</th>\n",
       "      <th>X3</th>\n",
       "    </tr>\n",
       "  </thead>\n",
       "  <tbody>\n",
       "    <tr>\n",
       "      <th>0</th>\n",
       "      <td>-4.623985</td>\n",
       "      <td>-1.585030</td>\n",
       "      <td>-0.957743</td>\n",
       "    </tr>\n",
       "    <tr>\n",
       "      <th>1</th>\n",
       "      <td>2.212172</td>\n",
       "      <td>1.966724</td>\n",
       "      <td>0.073355</td>\n",
       "    </tr>\n",
       "    <tr>\n",
       "      <th>2</th>\n",
       "      <td>-6.432605</td>\n",
       "      <td>-1.916778</td>\n",
       "      <td>0.163367</td>\n",
       "    </tr>\n",
       "    <tr>\n",
       "      <th>3</th>\n",
       "      <td>-4.821694</td>\n",
       "      <td>-1.458018</td>\n",
       "      <td>0.098058</td>\n",
       "    </tr>\n",
       "    <tr>\n",
       "      <th>4</th>\n",
       "      <td>-6.568737</td>\n",
       "      <td>-3.826441</td>\n",
       "      <td>1.126906</td>\n",
       "    </tr>\n",
       "    <tr>\n",
       "      <th>...</th>\n",
       "      <td>...</td>\n",
       "      <td>...</td>\n",
       "      <td>...</td>\n",
       "    </tr>\n",
       "    <tr>\n",
       "      <th>295</th>\n",
       "      <td>2.151450</td>\n",
       "      <td>3.245968</td>\n",
       "      <td>-0.205266</td>\n",
       "    </tr>\n",
       "    <tr>\n",
       "      <th>296</th>\n",
       "      <td>2.527011</td>\n",
       "      <td>1.777811</td>\n",
       "      <td>-1.452356</td>\n",
       "    </tr>\n",
       "    <tr>\n",
       "      <th>297</th>\n",
       "      <td>2.923188</td>\n",
       "      <td>3.825854</td>\n",
       "      <td>1.084732</td>\n",
       "    </tr>\n",
       "    <tr>\n",
       "      <th>298</th>\n",
       "      <td>-5.064358</td>\n",
       "      <td>-0.774346</td>\n",
       "      <td>-1.521561</td>\n",
       "    </tr>\n",
       "    <tr>\n",
       "      <th>299</th>\n",
       "      <td>-6.123181</td>\n",
       "      <td>-1.735672</td>\n",
       "      <td>-0.835981</td>\n",
       "    </tr>\n",
       "  </tbody>\n",
       "</table>\n",
       "<p>300 rows × 3 columns</p>\n",
       "</div>"
      ],
      "text/plain": [
       "           X1        X2        X3\n",
       "0   -4.623985 -1.585030 -0.957743\n",
       "1    2.212172  1.966724  0.073355\n",
       "2   -6.432605 -1.916778  0.163367\n",
       "3   -4.821694 -1.458018  0.098058\n",
       "4   -6.568737 -3.826441  1.126906\n",
       "..        ...       ...       ...\n",
       "295  2.151450  3.245968 -0.205266\n",
       "296  2.527011  1.777811 -1.452356\n",
       "297  2.923188  3.825854  1.084732\n",
       "298 -5.064358 -0.774346 -1.521561\n",
       "299 -6.123181 -1.735672 -0.835981\n",
       "\n",
       "[300 rows x 3 columns]"
      ]
     },
     "execution_count": 45,
     "metadata": {},
     "output_type": "execute_result"
    }
   ],
   "source": [
    "df"
   ]
  },
  {
   "cell_type": "code",
   "execution_count": 60,
   "id": "8431c825",
   "metadata": {},
   "outputs": [
    {
     "data": {
      "text/plain": [
       "<mpl_toolkits.mplot3d.art3d.Path3DCollection at 0x7fbb70b3b5e0>"
      ]
     },
     "execution_count": 60,
     "metadata": {},
     "output_type": "execute_result"
    },
    {
     "data": {
      "image/png": "[encoded data removed]",
      "text/plain": [
       "<Figure size 432x288 with 1 Axes>"
      ]
     },
     "metadata": {
      "needs_background": "light"
     },
     "output_type": "display_data"
    }
   ],
   "source": [
    "from mpl_toolkits import mplot3d\n",
    "fig = plt.figure()\n",
    "ax = plt.subplot(111,projection='3d')\n",
    "ax.scatter(df['X1'],df['X2'],df['X3'],c=y)\n"
   ]
  },
  {
   "cell_type": "code",
   "execution_count": 62,
   "id": "7776bf1e",
   "metadata": {},
   "outputs": [],
   "source": [
    "from tensorflow.keras.models import Sequential\n",
    "from tensorflow.keras.layers import Dense\n",
    "from tensorflow.keras.optimizers import SGD"
   ]
  },
  {
   "cell_type": "code",
   "execution_count": 63,
   "id": "531e02e2",
   "metadata": {},
   "outputs": [],
   "source": [
    "#3--->2---->3 neurons"
   ]
  },
  {
   "cell_type": "code",
   "execution_count": 102,
   "id": "153b1f55",
   "metadata": {},
   "outputs": [],
   "source": [
    "encoder= Sequential()\n",
    "encoder.add(Dense(2,activation=\"relu\",input_shape=[3]))\n",
    "\n",
    "decoder=Sequential()\n",
    "decoder.add(Dense(3,activation=\"relu\",input_shape=[2]))"
   ]
  },
  {
   "cell_type": "code",
   "execution_count": 103,
   "id": "7a655a27",
   "metadata": {},
   "outputs": [],
   "source": [
    "scaler=MinMaxScaler()\n",
    "scaler_data=scaler.fit_transform(df)"
   ]
  },
  {
   "cell_type": "code",
   "execution_count": 104,
   "id": "49eb9554",
   "metadata": {},
   "outputs": [
    {
     "name": "stdout",
     "output_type": "stream",
     "text": [
      "Epoch 1/10\n",
      "10/10 [==============================] - 0s 2ms/step - loss: 0.1602\n",
      "Epoch 2/10\n",
      "10/10 [==============================] - 0s 3ms/step - loss: 0.1471\n",
      "Epoch 3/10\n",
      "10/10 [==============================] - 0s 3ms/step - loss: 0.1252\n",
      "Epoch 4/10\n",
      "10/10 [==============================] - 0s 4ms/step - loss: 0.1121\n",
      "Epoch 5/10\n",
      "10/10 [==============================] - 0s 2ms/step - loss: 0.0196\n",
      "Epoch 6/10\n",
      "10/10 [==============================] - 0s 2ms/step - loss: 0.0220\n",
      "Epoch 7/10\n",
      "10/10 [==============================] - 0s 4ms/step - loss: 0.0231\n",
      "Epoch 8/10\n",
      "10/10 [==============================] - 0s 5ms/step - loss: 0.0228\n",
      "Epoch 9/10\n",
      "10/10 [==============================] - 0s 3ms/step - loss: 0.0220\n",
      "Epoch 10/10\n",
      "10/10 [==============================] - 0s 3ms/step - loss: 0.0209\n"
     ]
    },
    {
     "data": {
      "text/plain": [
       "<keras.callbacks.History at 0x7fbb5d1bb9a0>"
      ]
     },
     "execution_count": 104,
     "metadata": {},
     "output_type": "execute_result"
    }
   ],
   "source": [
    "model=Sequential([encoder,decoder])\n",
    "model.compile(optimizer=SGD(learning_rate=1.5),loss=\"mse\")\n",
    "model.fit(scaler_data,scaler_data,epochs=10)"
   ]
  },
  {
   "cell_type": "code",
   "execution_count": 105,
   "id": "fccf81c1",
   "metadata": {},
   "outputs": [
    {
     "name": "stdout",
     "output_type": "stream",
     "text": [
      "Model: \"sequential_20\"\n",
      "_________________________________________________________________\n",
      " Layer (type)                Output Shape              Param #   \n",
      "=================================================================\n",
      " sequential_18 (Sequential)  (None, 2)                 8         \n",
      "                                                                 \n",
      " sequential_19 (Sequential)  (None, 3)                 9         \n",
      "                                                                 \n",
      "=================================================================\n",
      "Total params: 17\n",
      "Trainable params: 17\n",
      "Non-trainable params: 0\n",
      "_________________________________________________________________\n"
     ]
    }
   ],
   "source": [
    "model.summary()"
   ]
  },
  {
   "cell_type": "code",
   "execution_count": 106,
   "id": "df811d5d",
   "metadata": {},
   "outputs": [],
   "source": [
    "predictions=model.predict(scaler_data)"
   ]
  },
  {
   "cell_type": "code",
   "execution_count": 107,
   "id": "64f65e5b",
   "metadata": {},
   "outputs": [
    {
     "data": {
      "text/plain": [
       "(300, 3)"
      ]
     },
     "execution_count": 107,
     "metadata": {},
     "output_type": "execute_result"
    }
   ],
   "source": [
    "predictions.shape"
   ]
  },
  {
   "cell_type": "code",
   "execution_count": 108,
   "id": "0fa57496",
   "metadata": {},
   "outputs": [
    {
     "data": {
      "text/plain": [
       "<matplotlib.collections.PathCollection at 0x7fbb5d26a5e0>"
      ]
     },
     "execution_count": 108,
     "metadata": {},
     "output_type": "execute_result"
    },
    {
     "data": {
      "image/png": "[encoded data removed]",
      "text/plain": [
       "<Figure size 432x288 with 1 Axes>"
      ]
     },
     "metadata": {
      "needs_background": "light"
     },
     "output_type": "display_data"
    }
   ],
   "source": [
    "plt.scatter(predictions[:,0],predictions[:,1])"
   ]
  },
  {
   "cell_type": "code",
   "execution_count": 109,
   "id": "cda2cf91",
   "metadata": {},
   "outputs": [
    {
     "data": {
      "text/plain": [
       "(300,)"
      ]
     },
     "execution_count": 109,
     "metadata": {},
     "output_type": "execute_result"
    }
   ],
   "source": [
    "predictions[:,0].shape"
   ]
  }
 ],
 "metadata": {
  "kernelspec": {
   "display_name": "Python 3",
   "language": "python",
   "name": "python3"
  },
  "language_info": {
   "codemirror_mode": {
    "name": "ipython",
    "version": 3
   },
   "file_extension": ".py",
   "mimetype": "text/x-python",
   "name": "python",
   "nbconvert_exporter": "python",
   "pygments_lexer": "ipython3",
   "version": "3.8.8"
  }
 },
 "nbformat": 4,
 "nbformat_minor": 5
}
