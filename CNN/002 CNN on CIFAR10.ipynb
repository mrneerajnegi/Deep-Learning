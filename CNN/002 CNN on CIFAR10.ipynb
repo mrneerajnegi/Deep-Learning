{
 "cells": [
  {
   "cell_type": "code",
   "execution_count": 1,
   "id": "0204e857",
   "metadata": {},
   "outputs": [],
   "source": [
    "from tensorflow.keras.models import Sequential\n",
    "from tensorflow.keras.layers import Dense,Conv2D,MaxPool2D,Flatten\n",
    "from tensorflow.keras.callbacks import EarlyStopping\n",
    "import pandas as pd\n",
    "import numpy as np\n",
    "import matplotlib.pyplot as plt\n",
    "from sklearn.metrics import confusion_matrix,classification_report\n",
    "import seaborn as sbn\n",
    "from tensorflow.keras.datasets import cifar10\n",
    "from tensorflow.keras.utils import to_categorical"
   ]
  },
  {
   "cell_type": "code",
   "execution_count": 2,
   "id": "a1dda58c",
   "metadata": {},
   "outputs": [],
   "source": [
    "data=cifar10.load_data();"
   ]
  },
  {
   "cell_type": "code",
   "execution_count": 3,
   "id": "b51a2b73",
   "metadata": {},
   "outputs": [],
   "source": [
    "(X_train,y_train),(X_test,y_test)=data\n",
    "X_train=X_train/255\n",
    "X_test=X_test/255"
   ]
  },
  {
   "cell_type": "code",
   "execution_count": 4,
   "id": "4bbbe403",
   "metadata": {},
   "outputs": [
    {
     "data": {
      "text/plain": [
       "(50000, 32, 32, 3)"
      ]
     },
     "execution_count": 4,
     "metadata": {},
     "output_type": "execute_result"
    }
   ],
   "source": [
    "X_train.shape"
   ]
  },
  {
   "cell_type": "code",
   "execution_count": 5,
   "id": "bff30ef9",
   "metadata": {},
   "outputs": [
    {
     "data": {
      "text/plain": [
       "(50000, 1)"
      ]
     },
     "execution_count": 5,
     "metadata": {},
     "output_type": "execute_result"
    }
   ],
   "source": [
    "y_train.shape"
   ]
  },
  {
   "cell_type": "code",
   "execution_count": 6,
   "id": "41c4b275",
   "metadata": {},
   "outputs": [
    {
     "data": {
      "text/plain": [
       "(10000, 1)"
      ]
     },
     "execution_count": 6,
     "metadata": {},
     "output_type": "execute_result"
    }
   ],
   "source": [
    "y_test.shape"
   ]
  },
  {
   "cell_type": "code",
   "execution_count": 7,
   "id": "f68f7c70",
   "metadata": {},
   "outputs": [
    {
     "data": {
      "text/plain": [
       "<matplotlib.image.AxesImage at 0x7ff3af136700>"
      ]
     },
     "execution_count": 7,
     "metadata": {},
     "output_type": "execute_result"
    },
    {
     "data": {
      "image/png": "[encoded data removed]",
      "text/plain": [
       "<Figure size 432x288 with 1 Axes>"
      ]
     },
     "metadata": {
      "needs_background": "light"
     },
     "output_type": "display_data"
    }
   ],
   "source": [
    "plt.imshow(X_train[5000])"
   ]
  },
  {
   "cell_type": "code",
   "execution_count": 8,
   "id": "7cec8791",
   "metadata": {},
   "outputs": [],
   "source": [
    "y_test_c=to_categorical(y_test)"
   ]
  },
  {
   "cell_type": "code",
   "execution_count": 9,
   "id": "11dcfb24",
   "metadata": {},
   "outputs": [],
   "source": [
    "y_train_c=to_categorical(y_train)"
   ]
  },
  {
   "cell_type": "code",
   "execution_count": 10,
   "id": "b6cd390e",
   "metadata": {},
   "outputs": [
    {
     "data": {
      "text/plain": [
       "3072"
      ]
     },
     "execution_count": 10,
     "metadata": {},
     "output_type": "execute_result"
    }
   ],
   "source": [
    "32*32*3"
   ]
  },
  {
   "cell_type": "code",
   "execution_count": 11,
   "id": "4d00da2e",
   "metadata": {},
   "outputs": [],
   "source": [
    "model=Sequential()\n",
    "model.add(Conv2D(filters=32,kernel_size=(4,4),input_shape=(32,32,3),activation=\"relu\"))\n",
    "model.add(MaxPool2D(pool_size=(2,2)))\n",
    "#there are lots of data points (3072) so lets apply 2 convlutional layers\n",
    "model.add(Conv2D(filters=32,kernel_size=(4,4),input_shape=(32,32,3),activation=\"relu\"))\n",
    "model.add(MaxPool2D(pool_size=(2,2)))\n",
    "          \n",
    "model.add(Flatten())\n",
    "model.add(Dense(256,activation=\"relu\"))\n",
    "model.add(Dense(10,activation=\"softmax\"))\n",
    "model.compile(optimizer=\"adam\",loss=\"categorical_crossentropy\",metrics=[\"accuracy\"])\n",
    "\n"
   ]
  },
  {
   "cell_type": "code",
   "execution_count": 12,
   "id": "923ba67a",
   "metadata": {},
   "outputs": [
    {
     "name": "stdout",
     "output_type": "stream",
     "text": [
      "Epoch 1/10\n",
      "1563/1563 [==============================] - 49s 31ms/step - loss: 1.4831 - accuracy: 0.4649 - val_loss: 1.2657 - val_accuracy: 0.5415\n",
      "Epoch 2/10\n",
      "1563/1563 [==============================] - 42s 27ms/step - loss: 1.1520 - accuracy: 0.5922 - val_loss: 1.1466 - val_accuracy: 0.5918\n",
      "Epoch 3/10\n",
      "1563/1563 [==============================] - 47s 30ms/step - loss: 0.9970 - accuracy: 0.6506 - val_loss: 1.0333 - val_accuracy: 0.6381\n",
      "Epoch 4/10\n",
      "1563/1563 [==============================] - 45s 29ms/step - loss: 0.8917 - accuracy: 0.6894 - val_loss: 0.9727 - val_accuracy: 0.6635\n",
      "Epoch 5/10\n",
      "1563/1563 [==============================] - 46s 29ms/step - loss: 0.8023 - accuracy: 0.7183 - val_loss: 0.9623 - val_accuracy: 0.6699\n",
      "Epoch 6/10\n",
      "1563/1563 [==============================] - 47s 30ms/step - loss: 0.7219 - accuracy: 0.7465 - val_loss: 0.9670 - val_accuracy: 0.6672\n",
      "Epoch 7/10\n",
      "1563/1563 [==============================] - 42s 27ms/step - loss: 0.6471 - accuracy: 0.7719 - val_loss: 0.9668 - val_accuracy: 0.6767\n"
     ]
    },
    {
     "data": {
      "text/plain": [
       "<keras.callbacks.History at 0x7ff336e02e50>"
      ]
     },
     "execution_count": 12,
     "metadata": {},
     "output_type": "execute_result"
    }
   ],
   "source": [
    "early_stop=EarlyStopping(monitor=\"val_loss\",patience=2)\n",
    "model.fit(X_train,y_train_c,callbacks=[early_stop],epochs=10,validation_data=(X_test,y_test_c))"
   ]
  },
  {
   "cell_type": "code",
   "execution_count": 13,
   "id": "6a781006",
   "metadata": {},
   "outputs": [
    {
     "data": {
      "text/html": [
       "<div>\n",
       "<style scoped>\n",
       "    .dataframe tbody tr th:only-of-type {\n",
       "        vertical-align: middle;\n",
       "    }\n",
       "\n",
       "    .dataframe tbody tr th {\n",
       "        vertical-align: top;\n",
       "    }\n",
       "\n",
       "    .dataframe thead th {\n",
       "        text-align: right;\n",
       "    }\n",
       "</style>\n",
       "<table border=\"1\" class=\"dataframe\">\n",
       "  <thead>\n",
       "    <tr style=\"text-align: right;\">\n",
       "      <th></th>\n",
       "      <th>loss</th>\n",
       "      <th>accuracy</th>\n",
       "      <th>val_loss</th>\n",
       "      <th>val_accuracy</th>\n",
       "    </tr>\n",
       "  </thead>\n",
       "  <tbody>\n",
       "    <tr>\n",
       "      <th>0</th>\n",
       "      <td>1.483147</td>\n",
       "      <td>0.46494</td>\n",
       "      <td>1.265721</td>\n",
       "      <td>0.5415</td>\n",
       "    </tr>\n",
       "    <tr>\n",
       "      <th>1</th>\n",
       "      <td>1.151988</td>\n",
       "      <td>0.59218</td>\n",
       "      <td>1.146586</td>\n",
       "      <td>0.5918</td>\n",
       "    </tr>\n",
       "    <tr>\n",
       "      <th>2</th>\n",
       "      <td>0.996985</td>\n",
       "      <td>0.65060</td>\n",
       "      <td>1.033321</td>\n",
       "      <td>0.6381</td>\n",
       "    </tr>\n",
       "    <tr>\n",
       "      <th>3</th>\n",
       "      <td>0.891714</td>\n",
       "      <td>0.68936</td>\n",
       "      <td>0.972667</td>\n",
       "      <td>0.6635</td>\n",
       "    </tr>\n",
       "    <tr>\n",
       "      <th>4</th>\n",
       "      <td>0.802299</td>\n",
       "      <td>0.71828</td>\n",
       "      <td>0.962336</td>\n",
       "      <td>0.6699</td>\n",
       "    </tr>\n",
       "    <tr>\n",
       "      <th>5</th>\n",
       "      <td>0.721851</td>\n",
       "      <td>0.74648</td>\n",
       "      <td>0.966971</td>\n",
       "      <td>0.6672</td>\n",
       "    </tr>\n",
       "    <tr>\n",
       "      <th>6</th>\n",
       "      <td>0.647105</td>\n",
       "      <td>0.77194</td>\n",
       "      <td>0.966819</td>\n",
       "      <td>0.6767</td>\n",
       "    </tr>\n",
       "  </tbody>\n",
       "</table>\n",
       "</div>"
      ],
      "text/plain": [
       "       loss  accuracy  val_loss  val_accuracy\n",
       "0  1.483147   0.46494  1.265721        0.5415\n",
       "1  1.151988   0.59218  1.146586        0.5918\n",
       "2  0.996985   0.65060  1.033321        0.6381\n",
       "3  0.891714   0.68936  0.972667        0.6635\n",
       "4  0.802299   0.71828  0.962336        0.6699\n",
       "5  0.721851   0.74648  0.966971        0.6672\n",
       "6  0.647105   0.77194  0.966819        0.6767"
      ]
     },
     "execution_count": 13,
     "metadata": {},
     "output_type": "execute_result"
    }
   ],
   "source": [
    "results=pd.DataFrame(model.history.history)\n",
    "results"
   ]
  },
  {
   "cell_type": "code",
   "execution_count": 14,
   "id": "73013696",
   "metadata": {},
   "outputs": [
    {
     "data": {
      "text/plain": [
       "<AxesSubplot:>"
      ]
     },
     "execution_count": 14,
     "metadata": {},
     "output_type": "execute_result"
    },
    {
     "data": {
      "image/png": "[encoded data removed]",
      "text/plain": [
       "<Figure size 432x288 with 1 Axes>"
      ]
     },
     "metadata": {
      "needs_background": "light"
     },
     "output_type": "display_data"
    }
   ],
   "source": [
    "results[[\"loss\",\"val_loss\"]].plot()"
   ]
  },
  {
   "cell_type": "code",
   "execution_count": 15,
   "id": "a14ad219",
   "metadata": {},
   "outputs": [
    {
     "data": {
      "text/plain": [
       "<AxesSubplot:>"
      ]
     },
     "execution_count": 15,
     "metadata": {},
     "output_type": "execute_result"
    },
    {
     "data": {
      "image/png": "[encoded data removed]",
      "text/plain": [
       "<Figure size 432x288 with 1 Axes>"
      ]
     },
     "metadata": {
      "needs_background": "light"
     },
     "output_type": "display_data"
    }
   ],
   "source": [
    "results[[\"accuracy\",\"val_accuracy\"]].plot()"
   ]
  },
  {
   "cell_type": "code",
   "execution_count": 16,
   "id": "3c237e59",
   "metadata": {},
   "outputs": [],
   "source": [
    "predictions=model.predict(X_test)"
   ]
  },
  {
   "cell_type": "code",
   "execution_count": 17,
   "id": "67f78c21",
   "metadata": {},
   "outputs": [],
   "source": [
    "predictions=np.argmax(predictions,-1)"
   ]
  },
  {
   "cell_type": "code",
   "execution_count": 18,
   "id": "ae4eee8a",
   "metadata": {},
   "outputs": [
    {
     "data": {
      "text/plain": [
       "array([3, 8, 8, ..., 5, 1, 7])"
      ]
     },
     "execution_count": 18,
     "metadata": {},
     "output_type": "execute_result"
    }
   ],
   "source": [
    "predictions"
   ]
  },
  {
   "cell_type": "code",
   "execution_count": 19,
   "id": "e7407066",
   "metadata": {},
   "outputs": [
    {
     "data": {
      "text/plain": [
       "array([[709,  16,  64,  30,  32,  10,  12,  15,  76,  36],\n",
       "       [ 28, 778,   5,  12,  16,   8,   8,   5,  40, 100],\n",
       "       [ 51,  11, 534,  73, 117,  93,  44,  50,  19,   8],\n",
       "       [ 14,   9,  53, 487,  82, 220,  49,  54,  14,  18],\n",
       "       [ 11,   2,  56,  85, 693,  64,  23,  45,  18,   3],\n",
       "       [ 15,   4,  42, 169,  58, 611,  21,  61,   9,  10],\n",
       "       [  2,   7,  45,  88,  69,  47, 715,  15,   9,   3],\n",
       "       [ 12,   5,  21,  47, 101,  76,   6, 718,   4,  10],\n",
       "       [ 68,  42,  17,  18,  26,   9,   6,   7, 770,  37],\n",
       "       [ 29,  71,  14,  30,  13,  14,  13,  23,  41, 752]])"
      ]
     },
     "execution_count": 19,
     "metadata": {},
     "output_type": "execute_result"
    }
   ],
   "source": [
    "confusion_matrix(y_test,predictions)"
   ]
  },
  {
   "cell_type": "code",
   "execution_count": 20,
   "id": "c02aec62",
   "metadata": {},
   "outputs": [
    {
     "name": "stdout",
     "output_type": "stream",
     "text": [
      "              precision    recall  f1-score   support\n",
      "\n",
      "           0       0.76      0.71      0.73      1000\n",
      "           1       0.82      0.78      0.80      1000\n",
      "           2       0.63      0.53      0.58      1000\n",
      "           3       0.47      0.49      0.48      1000\n",
      "           4       0.57      0.69      0.63      1000\n",
      "           5       0.53      0.61      0.57      1000\n",
      "           6       0.80      0.71      0.75      1000\n",
      "           7       0.72      0.72      0.72      1000\n",
      "           8       0.77      0.77      0.77      1000\n",
      "           9       0.77      0.75      0.76      1000\n",
      "\n",
      "    accuracy                           0.68     10000\n",
      "   macro avg       0.68      0.68      0.68     10000\n",
      "weighted avg       0.68      0.68      0.68     10000\n",
      "\n"
     ]
    }
   ],
   "source": [
    "print(classification_report(y_test,predictions))"
   ]
  },
  {
   "cell_type": "code",
   "execution_count": 21,
   "id": "69a5ee05",
   "metadata": {},
   "outputs": [],
   "source": [
    "test_image=X_test[0]"
   ]
  },
  {
   "cell_type": "code",
   "execution_count": 22,
   "id": "b6185544",
   "metadata": {},
   "outputs": [
    {
     "data": {
      "text/plain": [
       "array([9], dtype=uint8)"
      ]
     },
     "execution_count": 22,
     "metadata": {},
     "output_type": "execute_result"
    }
   ],
   "source": [
    "y_test[400]"
   ]
  },
  {
   "cell_type": "code",
   "execution_count": 23,
   "id": "c0157b5a",
   "metadata": {},
   "outputs": [
    {
     "data": {
      "text/plain": [
       "<matplotlib.image.AxesImage at 0x7ff309cf6e80>"
      ]
     },
     "execution_count": 23,
     "metadata": {},
     "output_type": "execute_result"
    },
    {
     "data": {
      "image/png": "[encoded data removed]",
      "text/plain": [
       "<Figure size 432x288 with 1 Axes>"
      ]
     },
     "metadata": {
      "needs_background": "light"
     },
     "output_type": "display_data"
    }
   ],
   "source": [
    "plt.imshow(X_test[400])"
   ]
  },
  {
   "cell_type": "code",
   "execution_count": 24,
   "id": "4b2a517c",
   "metadata": {},
   "outputs": [
    {
     "data": {
      "text/plain": [
       "(32, 32, 3)"
      ]
     },
     "execution_count": 24,
     "metadata": {},
     "output_type": "execute_result"
    }
   ],
   "source": [
    "X_test[400].shape"
   ]
  },
  {
   "cell_type": "code",
   "execution_count": 25,
   "id": "ead5d7de",
   "metadata": {},
   "outputs": [],
   "source": [
    "X_image=X_test[400].reshape(1,32,32,3)"
   ]
  },
  {
   "cell_type": "code",
   "execution_count": 26,
   "id": "9ab7f7c0",
   "metadata": {},
   "outputs": [],
   "source": [
    "y_predict=model.predict(X_image)"
   ]
  },
  {
   "cell_type": "code",
   "execution_count": 27,
   "id": "2fd5164e",
   "metadata": {},
   "outputs": [
    {
     "data": {
      "text/plain": [
       "9"
      ]
     },
     "execution_count": 27,
     "metadata": {},
     "output_type": "execute_result"
    }
   ],
   "source": [
    "np.argmax(y_predict)"
   ]
  },
  {
   "cell_type": "code",
   "execution_count": null,
   "id": "622fbed8",
   "metadata": {},
   "outputs": [],
   "source": []
  }
 ],
 "metadata": {
  "kernelspec": {
   "display_name": "Python 3",
   "language": "python",
   "name": "python3"
  },
  "language_info": {
   "codemirror_mode": {
    "name": "ipython",
    "version": 3
   },
   "file_extension": ".py",
   "mimetype": "text/x-python",
   "name": "python",
   "nbconvert_exporter": "python",
   "pygments_lexer": "ipython3",
   "version": "3.8.8"
  }
 },
 "nbformat": 4,
 "nbformat_minor": 5
}
