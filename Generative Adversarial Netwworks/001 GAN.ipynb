{
 "cells": [
  {
   "cell_type": "code",
   "execution_count": 1,
   "id": "a97f0757",
   "metadata": {},
   "outputs": [],
   "source": [
    "import pandas as pd\n",
    "import numpy as np\n",
    "import matplotlib.pyplot as plt\n",
    "from tensorflow.keras.models import Sequential\n",
    "from tensorflow.keras.layers import Dense,Flatten,Reshape\n",
    "from tensorflow.keras.datasets import mnist\n",
    "import tensorflow as tf"
   ]
  },
  {
   "cell_type": "code",
   "execution_count": 2,
   "id": "5319054d",
   "metadata": {},
   "outputs": [],
   "source": [
    "(xtrain,ytrain),(xtest,ytest)=mnist.load_data()"
   ]
  },
  {
   "cell_type": "code",
   "execution_count": 3,
   "id": "c6836138",
   "metadata": {},
   "outputs": [
    {
     "data": {
      "text/plain": [
       "(60000, 28, 28)"
      ]
     },
     "execution_count": 3,
     "metadata": {},
     "output_type": "execute_result"
    }
   ],
   "source": [
    "xtrain.shape"
   ]
  },
  {
   "cell_type": "code",
   "execution_count": 4,
   "id": "5e94a247",
   "metadata": {},
   "outputs": [],
   "source": [
    "#lets take 0 only to for testing\n",
    "xtrain_=xtrain[ytrain==0]"
   ]
  },
  {
   "cell_type": "code",
   "execution_count": 5,
   "id": "23c7b059",
   "metadata": {},
   "outputs": [
    {
     "data": {
      "text/plain": [
       "(5923, 28, 28)"
      ]
     },
     "execution_count": 5,
     "metadata": {},
     "output_type": "execute_result"
    }
   ],
   "source": [
    "xtrain_.shape"
   ]
  },
  {
   "cell_type": "code",
   "execution_count": 6,
   "id": "d2aa1027",
   "metadata": {},
   "outputs": [
    {
     "data": {
      "text/plain": [
       "<matplotlib.image.AxesImage at 0x7fc9199ab610>"
      ]
     },
     "execution_count": 6,
     "metadata": {},
     "output_type": "execute_result"
    },
    {
     "data": {
      "image/png": "[encoded data removed]",
      "text/plain": [
       "<Figure size 432x288 with 1 Axes>"
      ]
     },
     "metadata": {
      "needs_background": "light"
     },
     "output_type": "display_data"
    }
   ],
   "source": [
    "plt.imshow(xtrain_[0])"
   ]
  },
  {
   "cell_type": "code",
   "execution_count": 7,
   "id": "9f0b99e6",
   "metadata": {},
   "outputs": [
    {
     "data": {
      "text/plain": [
       "784"
      ]
     },
     "execution_count": 7,
     "metadata": {},
     "output_type": "execute_result"
    }
   ],
   "source": [
    "28*28"
   ]
  },
  {
   "cell_type": "code",
   "execution_count": 8,
   "id": "ff59fd72",
   "metadata": {},
   "outputs": [
    {
     "data": {
      "text/plain": [
       "185"
      ]
     },
     "execution_count": 8,
     "metadata": {},
     "output_type": "execute_result"
    }
   ],
   "source": [
    "batch_size=32\n",
    "generator_starting_value=100\n",
    "5923//32"
   ]
  },
  {
   "cell_type": "code",
   "execution_count": 9,
   "id": "ef0942c9",
   "metadata": {},
   "outputs": [],
   "source": [
    "descriminator=Sequential()\n",
    "descriminator.add(Flatten(input_shape=[28,28]))\n",
    "descriminator.add(Dense(500,activation=\"relu\"))\n",
    "descriminator.add(Dense(300,activation=\"relu\"))\n",
    "descriminator.add(Dense(generator_starting_value,activation=\"relu\"))\n",
    "descriminator.add(Dense(1,activation=\"sigmoid\"))\n",
    "descriminator.compile(optimizer=\"adam\",loss=\"binary_crossentropy\")"
   ]
  },
  {
   "cell_type": "code",
   "execution_count": 10,
   "id": "8dbb04f6",
   "metadata": {},
   "outputs": [],
   "source": [
    "generator=Sequential()\n",
    "generator.add(Dense(generator_starting_value,activation=\"relu\"))\n",
    "generator.add(Dense(300,activation=\"relu\"))\n",
    "generator.add(Dense(500,activation=\"relu\"))\n",
    "generator.add(Dense(784,activation=\"relu\"))\n",
    "generator.add(Reshape([28,28]))\n"
   ]
  },
  {
   "cell_type": "code",
   "execution_count": 11,
   "id": "b9ad5d7a",
   "metadata": {},
   "outputs": [],
   "source": [
    "model=Sequential([generator,descriminator])\n",
    "descriminator.trainable=False  #imp\n",
    "model.compile(optimizer=\"adam\",loss=\"binary_crossentropy\")"
   ]
  },
  {
   "cell_type": "code",
   "execution_count": 12,
   "id": "21039302",
   "metadata": {},
   "outputs": [
    {
     "data": {
      "text/plain": [
       "<keras.engine.sequential.Sequential at 0x7fc919a0fb80>"
      ]
     },
     "execution_count": 12,
     "metadata": {},
     "output_type": "execute_result"
    }
   ],
   "source": [
    "model.layers[0]"
   ]
  },
  {
   "cell_type": "code",
   "execution_count": 13,
   "id": "8d74d3c8",
   "metadata": {},
   "outputs": [
    {
     "name": "stdout",
     "output_type": "stream",
     "text": [
      "Model: \"sequential\"\n",
      "_________________________________________________________________\n",
      " Layer (type)                Output Shape              Param #   \n",
      "=================================================================\n",
      " flatten (Flatten)           (None, 784)               0         \n",
      "                                                                 \n",
      " dense (Dense)               (None, 500)               392500    \n",
      "                                                                 \n",
      " dense_1 (Dense)             (None, 300)               150300    \n",
      "                                                                 \n",
      " dense_2 (Dense)             (None, 100)               30100     \n",
      "                                                                 \n",
      " dense_3 (Dense)             (None, 1)                 101       \n",
      "                                                                 \n",
      "=================================================================\n",
      "Total params: 573,001\n",
      "Trainable params: 0\n",
      "Non-trainable params: 573,001\n",
      "_________________________________________________________________\n"
     ]
    }
   ],
   "source": [
    "model.layers[1].summary()"
   ]
  },
  {
   "cell_type": "code",
   "execution_count": 14,
   "id": "74c096b3",
   "metadata": {},
   "outputs": [],
   "source": [
    "datasets=tf.data.Dataset.from_tensor_slices(xtrain_).shuffle(buffer_size=1000)"
   ]
  },
  {
   "cell_type": "code",
   "execution_count": 15,
   "id": "5f428246",
   "metadata": {},
   "outputs": [],
   "source": [
    "datasets=datasets.batch(batch_size=batch_size,drop_remainder=True)"
   ]
  },
  {
   "cell_type": "code",
   "execution_count": 16,
   "id": "64045f3e",
   "metadata": {},
   "outputs": [],
   "source": [
    "first_dataset=datasets.prefetch(0)"
   ]
  },
  {
   "cell_type": "code",
   "execution_count": 17,
   "id": "504e1c84",
   "metadata": {},
   "outputs": [
    {
     "data": {
      "image/png": "[encoded data removed]",
      "text/plain": [
       "<Figure size 432x288 with 1 Axes>"
      ]
     },
     "metadata": {
      "needs_background": "light"
     },
     "output_type": "display_data"
    }
   ],
   "source": [
    "noise =tf.random.normal(shape=[10,100])\n",
    "noisy_images=generator(noise)\n",
    "plt.imshow(noise);\n"
   ]
  },
  {
   "cell_type": "code",
   "execution_count": 18,
   "id": "b04b5f49",
   "metadata": {},
   "outputs": [
    {
     "data": {
      "image/png": "[encoded data removed]",
      "text/plain": [
       "<Figure size 432x288 with 1 Axes>"
      ]
     },
     "metadata": {
      "needs_background": "light"
     },
     "output_type": "display_data"
    }
   ],
   "source": [
    "plt.imshow(noisy_images[0]);"
   ]
  },
  {
   "cell_type": "code",
   "execution_count": 25,
   "id": "adba9da7",
   "metadata": {},
   "outputs": [],
   "source": [
    "epochs=4"
   ]
  },
  {
   "cell_type": "code",
   "execution_count": 26,
   "id": "b10af510",
   "metadata": {},
   "outputs": [
    {
     "name": "stdout",
     "output_type": "stream",
     "text": [
      "current=> epoch 0\n",
      "current batch=>  20\n",
      "current batch=>  40\n",
      "current batch=>  60\n",
      "current batch=>  80\n",
      "current batch=>  100\n",
      "current batch=>  120\n",
      "current batch=>  140\n",
      "current batch=>  160\n",
      "current batch=>  180\n",
      "current=> epoch 1\n",
      "current batch=>  20\n",
      "current batch=>  40\n",
      "current batch=>  60\n",
      "current batch=>  80\n",
      "current batch=>  100\n",
      "current batch=>  120\n",
      "current batch=>  140\n",
      "current batch=>  160\n",
      "current batch=>  180\n",
      "current=> epoch 2\n",
      "current batch=>  20\n",
      "current batch=>  40\n",
      "current batch=>  60\n",
      "current batch=>  80\n",
      "current batch=>  100\n",
      "current batch=>  120\n",
      "current batch=>  140\n",
      "current batch=>  160\n",
      "current batch=>  180\n",
      "current=> epoch 3\n",
      "current batch=>  20\n",
      "current batch=>  40\n",
      "current batch=>  60\n",
      "current batch=>  80\n",
      "current batch=>  100\n",
      "current batch=>  120\n",
      "current batch=>  140\n",
      "current batch=>  160\n",
      "current batch=>  180\n"
     ]
    }
   ],
   "source": [
    "for ep in range(epochs):\n",
    "    print(\"current=> epoch\", ep)\n",
    "    i=0\n",
    "    for batch_data in datasets:\n",
    "        i=i+1\n",
    "        if i%20==0:\n",
    "            print(\"current batch=> \", i)\n",
    "        noise=tf.random.normal(shape=[batch_size,generator_starting_value])\n",
    "        input_values=generator(noise)\n",
    "        fake_real_images=tf.concat([input_values,tf.dtypes.cast(batch_data,tf.float32)],axis=0)\n",
    "        y=tf.constant([[0]]*batch_size+[[1]]*batch_size)\n",
    "#         descriminator.trainable=True\n",
    "        descriminator.train_on_batch(fake_real_images,y)\n",
    "        \n",
    "        noise1=tf.random.normal(shape=[batch_size,generator_starting_value])\n",
    "        y1=tf.constant([[1]]*batch_size)\n",
    "#         descriminator.trainable=False\n",
    "        model.train_on_batch(noise1,y1)\n",
    "        \n"
   ]
  },
  {
   "cell_type": "code",
   "execution_count": 27,
   "id": "e3239a69",
   "metadata": {},
   "outputs": [
    {
     "data": {
      "text/plain": [
       "<matplotlib.image.AxesImage at 0x7fc8fb83d070>"
      ]
     },
     "execution_count": 27,
     "metadata": {},
     "output_type": "execute_result"
    },
    {
     "data": {
      "image/png": "[encoded data removed]",
      "text/plain": [
       "<Figure size 432x288 with 1 Axes>"
      ]
     },
     "metadata": {
      "needs_background": "light"
     },
     "output_type": "display_data"
    }
   ],
   "source": [
    "noise =tf.random.normal(shape=[10,100])\n",
    "noisy_images=generator(noise)\n",
    "plt.imshow(noisy_images[0])"
   ]
  },
  {
   "cell_type": "code",
   "execution_count": null,
   "id": "573ba1e4",
   "metadata": {},
   "outputs": [],
   "source": []
  },
  {
   "cell_type": "code",
   "execution_count": null,
   "id": "55595a6f",
   "metadata": {},
   "outputs": [],
   "source": []
  }
 ],
 "metadata": {
  "kernelspec": {
   "display_name": "Python 3",
   "language": "python",
   "name": "python3"
  },
  "language_info": {
   "codemirror_mode": {
    "name": "ipython",
    "version": 3
   },
   "file_extension": ".py",
   "mimetype": "text/x-python",
   "name": "python",
   "nbconvert_exporter": "python",
   "pygments_lexer": "ipython3",
   "version": "3.8.8"
  }
 },
 "nbformat": 4,
 "nbformat_minor": 5
}
