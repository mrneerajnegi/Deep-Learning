{
 "cells": [
  {
   "cell_type": "code",
   "execution_count": 1,
   "id": "53448816",
   "metadata": {},
   "outputs": [],
   "source": [
    "import pandas as pd\n",
    "import numpy as np\n",
    "import matplotlib.pyplot as plt\n",
    "import seaborn as sbn"
   ]
  },
  {
   "cell_type": "code",
   "execution_count": 8,
   "id": "ce7d961f",
   "metadata": {},
   "outputs": [],
   "source": [
    "data=np.linspace(1,50,500)\n",
    "y=np.sin(data)"
   ]
  },
  {
   "cell_type": "code",
   "execution_count": 12,
   "id": "b94673ef",
   "metadata": {},
   "outputs": [],
   "source": [
    "df=pd.DataFrame(data=y,index=data,columns=[\"Sin\"])"
   ]
  },
  {
   "cell_type": "code",
   "execution_count": 13,
   "id": "8648f14a",
   "metadata": {},
   "outputs": [
    {
     "data": {
      "text/html": [
       "<div>\n",
       "<style scoped>\n",
       "    .dataframe tbody tr th:only-of-type {\n",
       "        vertical-align: middle;\n",
       "    }\n",
       "\n",
       "    .dataframe tbody tr th {\n",
       "        vertical-align: top;\n",
       "    }\n",
       "\n",
       "    .dataframe thead th {\n",
       "        text-align: right;\n",
       "    }\n",
       "</style>\n",
       "<table border=\"1\" class=\"dataframe\">\n",
       "  <thead>\n",
       "    <tr style=\"text-align: right;\">\n",
       "      <th></th>\n",
       "      <th>Sin</th>\n",
       "    </tr>\n",
       "  </thead>\n",
       "  <tbody>\n",
       "    <tr>\n",
       "      <th>1.000000</th>\n",
       "      <td>0.841471</td>\n",
       "    </tr>\n",
       "    <tr>\n",
       "      <th>1.098196</th>\n",
       "      <td>0.890388</td>\n",
       "    </tr>\n",
       "    <tr>\n",
       "      <th>1.196393</th>\n",
       "      <td>0.930726</td>\n",
       "    </tr>\n",
       "    <tr>\n",
       "      <th>1.294589</th>\n",
       "      <td>0.962097</td>\n",
       "    </tr>\n",
       "    <tr>\n",
       "      <th>1.392786</th>\n",
       "      <td>0.984198</td>\n",
       "    </tr>\n",
       "    <tr>\n",
       "      <th>...</th>\n",
       "      <td>...</td>\n",
       "    </tr>\n",
       "    <tr>\n",
       "      <th>49.607214</th>\n",
       "      <td>-0.611748</td>\n",
       "    </tr>\n",
       "    <tr>\n",
       "      <th>49.705411</th>\n",
       "      <td>-0.531247</td>\n",
       "    </tr>\n",
       "    <tr>\n",
       "      <th>49.803607</th>\n",
       "      <td>-0.445628</td>\n",
       "    </tr>\n",
       "    <tr>\n",
       "      <th>49.901804</th>\n",
       "      <td>-0.355715</td>\n",
       "    </tr>\n",
       "    <tr>\n",
       "      <th>50.000000</th>\n",
       "      <td>-0.262375</td>\n",
       "    </tr>\n",
       "  </tbody>\n",
       "</table>\n",
       "<p>500 rows × 1 columns</p>\n",
       "</div>"
      ],
      "text/plain": [
       "                Sin\n",
       "1.000000   0.841471\n",
       "1.098196   0.890388\n",
       "1.196393   0.930726\n",
       "1.294589   0.962097\n",
       "1.392786   0.984198\n",
       "...             ...\n",
       "49.607214 -0.611748\n",
       "49.705411 -0.531247\n",
       "49.803607 -0.445628\n",
       "49.901804 -0.355715\n",
       "50.000000 -0.262375\n",
       "\n",
       "[500 rows x 1 columns]"
      ]
     },
     "execution_count": 13,
     "metadata": {},
     "output_type": "execute_result"
    }
   ],
   "source": [
    "df"
   ]
  },
  {
   "cell_type": "code",
   "execution_count": 14,
   "id": "25a838c2",
   "metadata": {},
   "outputs": [
    {
     "data": {
      "text/plain": [
       "500"
      ]
     },
     "execution_count": 14,
     "metadata": {},
     "output_type": "execute_result"
    }
   ],
   "source": [
    "len(df)"
   ]
  },
  {
   "cell_type": "code",
   "execution_count": 15,
   "id": "6de8c174",
   "metadata": {},
   "outputs": [
    {
     "data": {
      "text/plain": [
       "50.0"
      ]
     },
     "execution_count": 15,
     "metadata": {},
     "output_type": "execute_result"
    }
   ],
   "source": [
    "test_per=len(df)*0.1\n",
    "test_per"
   ]
  },
  {
   "cell_type": "code",
   "execution_count": 28,
   "id": "98fba82e",
   "metadata": {},
   "outputs": [],
   "source": [
    "train_set=df.iloc[:-int(test_per)]"
   ]
  },
  {
   "cell_type": "code",
   "execution_count": 25,
   "id": "e3c3a6a2",
   "metadata": {},
   "outputs": [
    {
     "data": {
      "text/html": [
       "<div>\n",
       "<style scoped>\n",
       "    .dataframe tbody tr th:only-of-type {\n",
       "        vertical-align: middle;\n",
       "    }\n",
       "\n",
       "    .dataframe tbody tr th {\n",
       "        vertical-align: top;\n",
       "    }\n",
       "\n",
       "    .dataframe thead th {\n",
       "        text-align: right;\n",
       "    }\n",
       "</style>\n",
       "<table border=\"1\" class=\"dataframe\">\n",
       "  <thead>\n",
       "    <tr style=\"text-align: right;\">\n",
       "      <th></th>\n",
       "      <th>Sin</th>\n",
       "    </tr>\n",
       "  </thead>\n",
       "  <tbody>\n",
       "    <tr>\n",
       "      <th>1.000000</th>\n",
       "      <td>0.841471</td>\n",
       "    </tr>\n",
       "    <tr>\n",
       "      <th>1.098196</th>\n",
       "      <td>0.890388</td>\n",
       "    </tr>\n",
       "    <tr>\n",
       "      <th>1.196393</th>\n",
       "      <td>0.930726</td>\n",
       "    </tr>\n",
       "    <tr>\n",
       "      <th>1.294589</th>\n",
       "      <td>0.962097</td>\n",
       "    </tr>\n",
       "    <tr>\n",
       "      <th>1.392786</th>\n",
       "      <td>0.984198</td>\n",
       "    </tr>\n",
       "    <tr>\n",
       "      <th>...</th>\n",
       "      <td>...</td>\n",
       "    </tr>\n",
       "    <tr>\n",
       "      <th>44.697395</th>\n",
       "      <td>0.655691</td>\n",
       "    </tr>\n",
       "    <tr>\n",
       "      <th>44.795591</th>\n",
       "      <td>0.726554</td>\n",
       "    </tr>\n",
       "    <tr>\n",
       "      <th>44.893788</th>\n",
       "      <td>0.790418</td>\n",
       "    </tr>\n",
       "    <tr>\n",
       "      <th>44.991984</th>\n",
       "      <td>0.846665</td>\n",
       "    </tr>\n",
       "    <tr>\n",
       "      <th>45.090180</th>\n",
       "      <td>0.894755</td>\n",
       "    </tr>\n",
       "  </tbody>\n",
       "</table>\n",
       "<p>450 rows × 1 columns</p>\n",
       "</div>"
      ],
      "text/plain": [
       "                Sin\n",
       "1.000000   0.841471\n",
       "1.098196   0.890388\n",
       "1.196393   0.930726\n",
       "1.294589   0.962097\n",
       "1.392786   0.984198\n",
       "...             ...\n",
       "44.697395  0.655691\n",
       "44.795591  0.726554\n",
       "44.893788  0.790418\n",
       "44.991984  0.846665\n",
       "45.090180  0.894755\n",
       "\n",
       "[450 rows x 1 columns]"
      ]
     },
     "execution_count": 25,
     "metadata": {},
     "output_type": "execute_result"
    }
   ],
   "source": [
    "train_set"
   ]
  },
  {
   "cell_type": "code",
   "execution_count": 27,
   "id": "b0af7842",
   "metadata": {},
   "outputs": [],
   "source": [
    "test_set=df.iloc[-int(test_per):]"
   ]
  },
  {
   "cell_type": "code",
   "execution_count": 31,
   "id": "3ae5eecb",
   "metadata": {},
   "outputs": [
    {
     "data": {
      "text/html": [
       "<div>\n",
       "<style scoped>\n",
       "    .dataframe tbody tr th:only-of-type {\n",
       "        vertical-align: middle;\n",
       "    }\n",
       "\n",
       "    .dataframe tbody tr th {\n",
       "        vertical-align: top;\n",
       "    }\n",
       "\n",
       "    .dataframe thead th {\n",
       "        text-align: right;\n",
       "    }\n",
       "</style>\n",
       "<table border=\"1\" class=\"dataframe\">\n",
       "  <thead>\n",
       "    <tr style=\"text-align: right;\">\n",
       "      <th></th>\n",
       "      <th>Sin</th>\n",
       "    </tr>\n",
       "  </thead>\n",
       "  <tbody>\n",
       "    <tr>\n",
       "      <th>45.188377</th>\n",
       "      <td>0.934225</td>\n",
       "    </tr>\n",
       "    <tr>\n",
       "      <th>45.286573</th>\n",
       "      <td>0.964693</td>\n",
       "    </tr>\n",
       "    <tr>\n",
       "      <th>45.384770</th>\n",
       "      <td>0.985867</td>\n",
       "    </tr>\n",
       "    <tr>\n",
       "      <th>45.482966</th>\n",
       "      <td>0.997542</td>\n",
       "    </tr>\n",
       "    <tr>\n",
       "      <th>45.581162</th>\n",
       "      <td>0.999606</td>\n",
       "    </tr>\n",
       "    <tr>\n",
       "      <th>45.679359</th>\n",
       "      <td>0.992039</td>\n",
       "    </tr>\n",
       "    <tr>\n",
       "      <th>45.777555</th>\n",
       "      <td>0.974914</td>\n",
       "    </tr>\n",
       "    <tr>\n",
       "      <th>45.875752</th>\n",
       "      <td>0.948396</td>\n",
       "    </tr>\n",
       "    <tr>\n",
       "      <th>45.973948</th>\n",
       "      <td>0.912740</td>\n",
       "    </tr>\n",
       "    <tr>\n",
       "      <th>46.072144</th>\n",
       "      <td>0.868290</td>\n",
       "    </tr>\n",
       "    <tr>\n",
       "      <th>46.170341</th>\n",
       "      <td>0.815475</td>\n",
       "    </tr>\n",
       "    <tr>\n",
       "      <th>46.268537</th>\n",
       "      <td>0.754802</td>\n",
       "    </tr>\n",
       "    <tr>\n",
       "      <th>46.366733</th>\n",
       "      <td>0.686857</td>\n",
       "    </tr>\n",
       "    <tr>\n",
       "      <th>46.464930</th>\n",
       "      <td>0.612295</td>\n",
       "    </tr>\n",
       "    <tr>\n",
       "      <th>46.563126</th>\n",
       "      <td>0.531833</td>\n",
       "    </tr>\n",
       "    <tr>\n",
       "      <th>46.661323</th>\n",
       "      <td>0.446247</td>\n",
       "    </tr>\n",
       "    <tr>\n",
       "      <th>46.759519</th>\n",
       "      <td>0.356361</td>\n",
       "    </tr>\n",
       "    <tr>\n",
       "      <th>46.857715</th>\n",
       "      <td>0.263042</td>\n",
       "    </tr>\n",
       "    <tr>\n",
       "      <th>46.955912</th>\n",
       "      <td>0.167189</td>\n",
       "    </tr>\n",
       "    <tr>\n",
       "      <th>47.054108</th>\n",
       "      <td>0.069725</td>\n",
       "    </tr>\n",
       "    <tr>\n",
       "      <th>47.152305</th>\n",
       "      <td>-0.028411</td>\n",
       "    </tr>\n",
       "    <tr>\n",
       "      <th>47.250501</th>\n",
       "      <td>-0.126273</td>\n",
       "    </tr>\n",
       "    <tr>\n",
       "      <th>47.348697</th>\n",
       "      <td>-0.222919</td>\n",
       "    </tr>\n",
       "    <tr>\n",
       "      <th>47.446894</th>\n",
       "      <td>-0.317417</td>\n",
       "    </tr>\n",
       "    <tr>\n",
       "      <th>47.545090</th>\n",
       "      <td>-0.408856</td>\n",
       "    </tr>\n",
       "    <tr>\n",
       "      <th>47.643287</th>\n",
       "      <td>-0.496357</td>\n",
       "    </tr>\n",
       "    <tr>\n",
       "      <th>47.741483</th>\n",
       "      <td>-0.579075</td>\n",
       "    </tr>\n",
       "    <tr>\n",
       "      <th>47.839679</th>\n",
       "      <td>-0.656213</td>\n",
       "    </tr>\n",
       "    <tr>\n",
       "      <th>47.937876</th>\n",
       "      <td>-0.727030</td>\n",
       "    </tr>\n",
       "    <tr>\n",
       "      <th>48.036072</th>\n",
       "      <td>-0.790841</td>\n",
       "    </tr>\n",
       "    <tr>\n",
       "      <th>48.134269</th>\n",
       "      <td>-0.847033</td>\n",
       "    </tr>\n",
       "    <tr>\n",
       "      <th>48.232465</th>\n",
       "      <td>-0.895064</td>\n",
       "    </tr>\n",
       "    <tr>\n",
       "      <th>48.330661</th>\n",
       "      <td>-0.934471</td>\n",
       "    </tr>\n",
       "    <tr>\n",
       "      <th>48.428858</th>\n",
       "      <td>-0.964875</td>\n",
       "    </tr>\n",
       "    <tr>\n",
       "      <th>48.527054</th>\n",
       "      <td>-0.985983</td>\n",
       "    </tr>\n",
       "    <tr>\n",
       "      <th>48.625251</th>\n",
       "      <td>-0.997590</td>\n",
       "    </tr>\n",
       "    <tr>\n",
       "      <th>48.723447</th>\n",
       "      <td>-0.999586</td>\n",
       "    </tr>\n",
       "    <tr>\n",
       "      <th>48.821643</th>\n",
       "      <td>-0.991952</td>\n",
       "    </tr>\n",
       "    <tr>\n",
       "      <th>48.919840</th>\n",
       "      <td>-0.974760</td>\n",
       "    </tr>\n",
       "    <tr>\n",
       "      <th>49.018036</th>\n",
       "      <td>-0.948176</td>\n",
       "    </tr>\n",
       "    <tr>\n",
       "      <th>49.116232</th>\n",
       "      <td>-0.912457</td>\n",
       "    </tr>\n",
       "    <tr>\n",
       "      <th>49.214429</th>\n",
       "      <td>-0.867947</td>\n",
       "    </tr>\n",
       "    <tr>\n",
       "      <th>49.312625</th>\n",
       "      <td>-0.815074</td>\n",
       "    </tr>\n",
       "    <tr>\n",
       "      <th>49.410822</th>\n",
       "      <td>-0.754348</td>\n",
       "    </tr>\n",
       "    <tr>\n",
       "      <th>49.509018</th>\n",
       "      <td>-0.686354</td>\n",
       "    </tr>\n",
       "    <tr>\n",
       "      <th>49.607214</th>\n",
       "      <td>-0.611748</td>\n",
       "    </tr>\n",
       "    <tr>\n",
       "      <th>49.705411</th>\n",
       "      <td>-0.531247</td>\n",
       "    </tr>\n",
       "    <tr>\n",
       "      <th>49.803607</th>\n",
       "      <td>-0.445628</td>\n",
       "    </tr>\n",
       "    <tr>\n",
       "      <th>49.901804</th>\n",
       "      <td>-0.355715</td>\n",
       "    </tr>\n",
       "    <tr>\n",
       "      <th>50.000000</th>\n",
       "      <td>-0.262375</td>\n",
       "    </tr>\n",
       "  </tbody>\n",
       "</table>\n",
       "</div>"
      ],
      "text/plain": [
       "                Sin\n",
       "45.188377  0.934225\n",
       "45.286573  0.964693\n",
       "45.384770  0.985867\n",
       "45.482966  0.997542\n",
       "45.581162  0.999606\n",
       "45.679359  0.992039\n",
       "45.777555  0.974914\n",
       "45.875752  0.948396\n",
       "45.973948  0.912740\n",
       "46.072144  0.868290\n",
       "46.170341  0.815475\n",
       "46.268537  0.754802\n",
       "46.366733  0.686857\n",
       "46.464930  0.612295\n",
       "46.563126  0.531833\n",
       "46.661323  0.446247\n",
       "46.759519  0.356361\n",
       "46.857715  0.263042\n",
       "46.955912  0.167189\n",
       "47.054108  0.069725\n",
       "47.152305 -0.028411\n",
       "47.250501 -0.126273\n",
       "47.348697 -0.222919\n",
       "47.446894 -0.317417\n",
       "47.545090 -0.408856\n",
       "47.643287 -0.496357\n",
       "47.741483 -0.579075\n",
       "47.839679 -0.656213\n",
       "47.937876 -0.727030\n",
       "48.036072 -0.790841\n",
       "48.134269 -0.847033\n",
       "48.232465 -0.895064\n",
       "48.330661 -0.934471\n",
       "48.428858 -0.964875\n",
       "48.527054 -0.985983\n",
       "48.625251 -0.997590\n",
       "48.723447 -0.999586\n",
       "48.821643 -0.991952\n",
       "48.919840 -0.974760\n",
       "49.018036 -0.948176\n",
       "49.116232 -0.912457\n",
       "49.214429 -0.867947\n",
       "49.312625 -0.815074\n",
       "49.410822 -0.754348\n",
       "49.509018 -0.686354\n",
       "49.607214 -0.611748\n",
       "49.705411 -0.531247\n",
       "49.803607 -0.445628\n",
       "49.901804 -0.355715\n",
       "50.000000 -0.262375"
      ]
     },
     "execution_count": 31,
     "metadata": {},
     "output_type": "execute_result"
    }
   ],
   "source": [
    "test_set"
   ]
  },
  {
   "cell_type": "code",
   "execution_count": 32,
   "id": "5b314df3",
   "metadata": {},
   "outputs": [],
   "source": [
    "#As we know in RNN we give output from previos cell to next cell , so we should also scale the y in RNN "
   ]
  },
  {
   "cell_type": "code",
   "execution_count": 33,
   "id": "84066a4a",
   "metadata": {},
   "outputs": [],
   "source": [
    "from sklearn.preprocessing import MinMaxScaler"
   ]
  },
  {
   "cell_type": "code",
   "execution_count": 34,
   "id": "42e2d854",
   "metadata": {},
   "outputs": [
    {
     "data": {
      "text/plain": [
       "MinMaxScaler()"
      ]
     },
     "execution_count": 34,
     "metadata": {},
     "output_type": "execute_result"
    }
   ],
   "source": [
    "scaler=MinMaxScaler()\n",
    "scaler.fit(train_set)"
   ]
  },
  {
   "cell_type": "code",
   "execution_count": 35,
   "id": "333d3519",
   "metadata": {},
   "outputs": [],
   "source": [
    "scaled_train=scaler.transform(train_set)\n",
    "scaled_test=scaler.transform(test_set)"
   ]
  },
  {
   "cell_type": "code",
   "execution_count": 135,
   "id": "494baff1",
   "metadata": {},
   "outputs": [],
   "source": [
    "from tensorflow.keras.preprocessing.sequence import TimeseriesGenerator\n",
    "from tensorflow.keras.models import Sequential\n",
    "from tensorflow.keras.layers import Dense,LSTM,SimpleRNN\n",
    "from tensorflow.keras.callbacks import EarlyStopping"
   ]
  },
  {
   "cell_type": "code",
   "execution_count": 94,
   "id": "48f85c90",
   "metadata": {},
   "outputs": [
    {
     "data": {
      "text/plain": [
       "449"
      ]
     },
     "execution_count": 94,
     "metadata": {},
     "output_type": "execute_result"
    }
   ],
   "source": [
    "length=1\n",
    "batch_size=1\n",
    "generator=TimeseriesGenerator(scaled_train,scaled_train,length=length,batch_size=batch_size)\n",
    "len(generator) "
   ]
  },
  {
   "cell_type": "code",
   "execution_count": 95,
   "id": "111a7590",
   "metadata": {},
   "outputs": [
    {
     "name": "stdout",
     "output_type": "stream",
     "text": [
      "[[[0.92080607]]] [[0.94526877]]\n"
     ]
    }
   ],
   "source": [
    "x,y=generator[0]\n",
    "print(x,y)"
   ]
  },
  {
   "cell_type": "code",
   "execution_count": 105,
   "id": "a78c188c",
   "metadata": {},
   "outputs": [
    {
     "data": {
      "text/plain": [
       "447"
      ]
     },
     "execution_count": 105,
     "metadata": {},
     "output_type": "execute_result"
    }
   ],
   "source": [
    "length=3\n",
    "batch_size=1\n",
    "generator=TimeseriesGenerator(scaled_train,scaled_train,length=length,batch_size=batch_size)\n",
    "len(generator)"
   ]
  },
  {
   "cell_type": "code",
   "execution_count": 106,
   "id": "673d6d5a",
   "metadata": {},
   "outputs": [
    {
     "name": "stdout",
     "output_type": "stream",
     "text": [
      "x= [[[0.92080607]\n",
      "  [0.94526877]\n",
      "  [0.96544137]]] \n",
      "y= [[0.98112951]]\n"
     ]
    }
   ],
   "source": [
    "x,y=generator[0]\n",
    "print(\"x=\",x,\"\\ny=\",y)"
   ]
  },
  {
   "cell_type": "code",
   "execution_count": 109,
   "id": "f71b0f4d",
   "metadata": {},
   "outputs": [
    {
     "data": {
      "text/plain": [
       "array([[0.92080607],\n",
       "       [0.94526877],\n",
       "       [0.96544137],\n",
       "       [0.98112951]])"
      ]
     },
     "execution_count": 109,
     "metadata": {},
     "output_type": "execute_result"
    }
   ],
   "source": [
    "scaled_train[:4]"
   ]
  },
  {
   "cell_type": "code",
   "execution_count": 110,
   "id": "2b86a665",
   "metadata": {},
   "outputs": [
    {
     "data": {
      "text/plain": [
       "<AxesSubplot:>"
      ]
     },
     "execution_count": 110,
     "metadata": {},
     "output_type": "execute_result"
    },
    {
     "data": {
      "image/png": "[encoded data removed]",
      "text/plain": [
       "<Figure size 432x288 with 1 Axes>"
      ]
     },
     "metadata": {
      "needs_background": "light"
     },
     "output_type": "display_data"
    }
   ],
   "source": [
    "df.plot()"
   ]
  },
  {
   "cell_type": "code",
   "execution_count": 117,
   "id": "8d9eb9d1",
   "metadata": {},
   "outputs": [
    {
     "data": {
      "text/plain": [
       "425"
      ]
     },
     "execution_count": 117,
     "metadata": {},
     "output_type": "execute_result"
    }
   ],
   "source": [
    "length=25\n",
    "batch_size=1\n",
    "generator=TimeseriesGenerator(scaled_train,scaled_train,length=length,batch_size=batch_size)\n",
    "len(generator)"
   ]
  },
  {
   "cell_type": "code",
   "execution_count": 118,
   "id": "1d11807f",
   "metadata": {},
   "outputs": [
    {
     "name": "stdout",
     "output_type": "stream",
     "text": [
      "[[[0.92080607]\n",
      "  [0.94526877]\n",
      "  [0.96544137]\n",
      "  [0.98112951]\n",
      "  [0.99218204]\n",
      "  [0.99849247]\n",
      "  [1.        ]\n",
      "  [0.99669011]\n",
      "  [0.98859468]\n",
      "  [0.97579171]\n",
      "  [0.95840457]\n",
      "  [0.93660076]\n",
      "  [0.91059036]\n",
      "  [0.88062399]\n",
      "  [0.84699035]\n",
      "  [0.8100135 ]\n",
      "  [0.77004971]\n",
      "  [0.72748402]\n",
      "  [0.68272654]\n",
      "  [0.63620849]\n",
      "  [0.58837807]\n",
      "  [0.53969612]\n",
      "  [0.49063167]\n",
      "  [0.44165745]\n",
      "  [0.39324532]]] [[0.34586172]]\n"
     ]
    }
   ],
   "source": [
    "x,y=generator[0]\n",
    "print(x,y)"
   ]
  },
  {
   "cell_type": "code",
   "execution_count": 119,
   "id": "06b8b1a9",
   "metadata": {},
   "outputs": [
    {
     "data": {
      "text/plain": [
       "(1, 25, 1)"
      ]
     },
     "execution_count": 119,
     "metadata": {},
     "output_type": "execute_result"
    }
   ],
   "source": [
    "x.shape"
   ]
  },
  {
   "cell_type": "code",
   "execution_count": 175,
   "id": "37ba1d9d",
   "metadata": {},
   "outputs": [],
   "source": [
    "n_features=1\n",
    "model=Sequential()\n",
    "model.add(SimpleRNN(25,input_shape=(length,n_features)))\n",
    "model.add(Dense(1))\n",
    "model.compile(optimizer=\"adam\",loss=\"mse\")"
   ]
  },
  {
   "cell_type": "code",
   "execution_count": 176,
   "id": "5ca7c0dc",
   "metadata": {},
   "outputs": [
    {
     "name": "stderr",
     "output_type": "stream",
     "text": [
      "<ipython-input-176-063492f5aede>:1: UserWarning: `Model.fit_generator` is deprecated and will be removed in a future version. Please use `Model.fit`, which supports generators.\n",
      "  model.fit_generator(generator,epochs=5)\n"
     ]
    },
    {
     "name": "stdout",
     "output_type": "stream",
     "text": [
      "Epoch 1/5\n",
      "425/425 [==============================] - 3s 5ms/step - loss: 0.0073\n",
      "Epoch 2/5\n",
      "425/425 [==============================] - 2s 5ms/step - loss: 5.1074e-04\n",
      "Epoch 3/5\n",
      "425/425 [==============================] - 2s 6ms/step - loss: 1.0424e-04\n",
      "Epoch 4/5\n",
      "425/425 [==============================] - 2s 6ms/step - loss: 2.7657e-04\n",
      "Epoch 5/5\n",
      "425/425 [==============================] - 2s 5ms/step - loss: 1.1119e-04\n"
     ]
    },
    {
     "data": {
      "text/plain": [
       "<keras.callbacks.History at 0x7f91a2b229a0>"
      ]
     },
     "execution_count": 176,
     "metadata": {},
     "output_type": "execute_result"
    }
   ],
   "source": [
    "model.fit_generator(generator,epochs=10)"
   ]
  },
  {
   "cell_type": "code",
   "execution_count": 177,
   "id": "459c0046",
   "metadata": {},
   "outputs": [
    {
     "data": {
      "text/html": [
       "<div>\n",
       "<style scoped>\n",
       "    .dataframe tbody tr th:only-of-type {\n",
       "        vertical-align: middle;\n",
       "    }\n",
       "\n",
       "    .dataframe tbody tr th {\n",
       "        vertical-align: top;\n",
       "    }\n",
       "\n",
       "    .dataframe thead th {\n",
       "        text-align: right;\n",
       "    }\n",
       "</style>\n",
       "<table border=\"1\" class=\"dataframe\">\n",
       "  <thead>\n",
       "    <tr style=\"text-align: right;\">\n",
       "      <th></th>\n",
       "      <th>loss</th>\n",
       "    </tr>\n",
       "  </thead>\n",
       "  <tbody>\n",
       "    <tr>\n",
       "      <th>0</th>\n",
       "      <td>0.007253</td>\n",
       "    </tr>\n",
       "    <tr>\n",
       "      <th>1</th>\n",
       "      <td>0.000511</td>\n",
       "    </tr>\n",
       "    <tr>\n",
       "      <th>2</th>\n",
       "      <td>0.000104</td>\n",
       "    </tr>\n",
       "    <tr>\n",
       "      <th>3</th>\n",
       "      <td>0.000277</td>\n",
       "    </tr>\n",
       "    <tr>\n",
       "      <th>4</th>\n",
       "      <td>0.000111</td>\n",
       "    </tr>\n",
       "  </tbody>\n",
       "</table>\n",
       "</div>"
      ],
      "text/plain": [
       "       loss\n",
       "0  0.007253\n",
       "1  0.000511\n",
       "2  0.000104\n",
       "3  0.000277\n",
       "4  0.000111"
      ]
     },
     "execution_count": 177,
     "metadata": {},
     "output_type": "execute_result"
    }
   ],
   "source": [
    "results=pd.DataFrame(model.history.history)\n",
    "results"
   ]
  },
  {
   "cell_type": "code",
   "execution_count": 178,
   "id": "e8066bbb",
   "metadata": {},
   "outputs": [
    {
     "data": {
      "text/plain": [
       "<AxesSubplot:>"
      ]
     },
     "execution_count": 178,
     "metadata": {},
     "output_type": "execute_result"
    },
    {
     "data": {
      "image/png": "[encoded data removed]",
      "text/plain": [
       "<Figure size 432x288 with 1 Axes>"
      ]
     },
     "metadata": {
      "needs_background": "light"
     },
     "output_type": "display_data"
    }
   ],
   "source": [
    "results.plot()"
   ]
  },
  {
   "cell_type": "code",
   "execution_count": 184,
   "id": "f137751d",
   "metadata": {},
   "outputs": [
    {
     "data": {
      "text/plain": [
       "(1, 25, 1)"
      ]
     },
     "execution_count": 184,
     "metadata": {},
     "output_type": "execute_result"
    }
   ],
   "source": [
    "first_Eval_batch=scaled_train[-length:].reshape(1,length,n_features)\n",
    "first_Eval_batch.shape"
   ]
  },
  {
   "cell_type": "code",
   "execution_count": 180,
   "id": "9947d3a3",
   "metadata": {},
   "outputs": [],
   "source": [
    "prediction_firs_batch=model.predict(first_Eval_batch)"
   ]
  },
  {
   "cell_type": "code",
   "execution_count": 191,
   "id": "c55a7c48",
   "metadata": {},
   "outputs": [
    {
     "data": {
      "text/plain": [
       "array([[0.9670443]], dtype=float32)"
      ]
     },
     "execution_count": 191,
     "metadata": {},
     "output_type": "execute_result"
    }
   ],
   "source": [
    "prediction_firs_batch"
   ]
  },
  {
   "cell_type": "code",
   "execution_count": 182,
   "id": "7161bd52",
   "metadata": {},
   "outputs": [
    {
     "data": {
      "text/plain": [
       "array([0.96719114])"
      ]
     },
     "execution_count": 182,
     "metadata": {},
     "output_type": "execute_result"
    }
   ],
   "source": [
    "#first prediction will be the first item in test data\n",
    "scaled_test[0]"
   ]
  },
  {
   "cell_type": "code",
   "execution_count": 183,
   "id": "817a023a",
   "metadata": {},
   "outputs": [],
   "source": [
    "#now we need to make a for loop to find the next series"
   ]
  },
  {
   "cell_type": "code",
   "execution_count": 218,
   "id": "75797e94",
   "metadata": {},
   "outputs": [],
   "source": [
    "all_predictions=[]\n",
    "eval_batch=scaled_train[-length:].reshape(1,length,n_features)   \n",
    "\n",
    "for i in range(len(test_set)):\n",
    "    prediction_curr_batch=model.predict(eval_batch)\n",
    "    eval_batch= np.append(eval_batch[:,1:,:],[prediction_curr_batch],axis=1)\n",
    "    all_predictions.append(prediction_curr_batch[0])"
   ]
  },
  {
   "cell_type": "code",
   "execution_count": 219,
   "id": "93871ad9",
   "metadata": {},
   "outputs": [
    {
     "data": {
      "text/plain": [
       "[array([0.9670443], dtype=float32),\n",
       " array([0.98335636], dtype=float32),\n",
       " array([0.9945667], dtype=float32),\n",
       " array([1.0018631], dtype=float32),\n",
       " array([1.0039728], dtype=float32),\n",
       " array([1.0013407], dtype=float32),\n",
       " array([0.99353236], dtype=float32),\n",
       " array([0.9810647], dtype=float32),\n",
       " array([0.96425515], dtype=float32),\n",
       " array([0.94345486], dtype=float32),\n",
       " array([0.919346], dtype=float32),\n",
       " array([0.892081], dtype=float32),\n",
       " array([0.8626146], dtype=float32),\n",
       " array([0.8302235], dtype=float32),\n",
       " array([0.7964115], dtype=float32),\n",
       " array([0.7599092], dtype=float32),\n",
       " array([0.7221158], dtype=float32),\n",
       " array([0.68218565], dtype=float32),\n",
       " array([0.6411039], dtype=float32),\n",
       " array([0.59881246], dtype=float32),\n",
       " array([0.55585253], dtype=float32),\n",
       " array([0.512733], dtype=float32),\n",
       " array([0.46969578], dtype=float32),\n",
       " array([0.42757004], dtype=float32),\n",
       " array([0.38590896], dtype=float32),\n",
       " array([0.34618932], dtype=float32),\n",
       " array([0.30695507], dtype=float32),\n",
       " array([0.27021044], dtype=float32),\n",
       " array([0.2341545], dtype=float32),\n",
       " array([0.20062903], dtype=float32),\n",
       " array([0.16851628], dtype=float32),\n",
       " array([0.13890594], dtype=float32),\n",
       " array([0.1117579], dtype=float32),\n",
       " array([0.08744682], dtype=float32),\n",
       " array([0.06672291], dtype=float32),\n",
       " array([0.04904971], dtype=float32),\n",
       " array([0.0363995], dtype=float32),\n",
       " array([0.02630519], dtype=float32),\n",
       " array([0.02268131], dtype=float32),\n",
       " array([0.02099434], dtype=float32),\n",
       " array([0.02637251], dtype=float32),\n",
       " array([0.03386174], dtype=float32),\n",
       " array([0.04782207], dtype=float32),\n",
       " array([0.06479902], dtype=float32),\n",
       " array([0.08699872], dtype=float32),\n",
       " array([0.1131619], dtype=float32),\n",
       " array([0.14286847], dtype=float32),\n",
       " array([0.17765218], dtype=float32),\n",
       " array([0.21332347], dtype=float32),\n",
       " array([0.25572366], dtype=float32)]"
      ]
     },
     "execution_count": 219,
     "metadata": {},
     "output_type": "execute_result"
    }
   ],
   "source": [
    "all_predictions"
   ]
  },
  {
   "cell_type": "code",
   "execution_count": 220,
   "id": "c85d9d70",
   "metadata": {},
   "outputs": [],
   "source": [
    "actual_predictions=scaler.inverse_transform(all_predictions)"
   ]
  },
  {
   "cell_type": "code",
   "execution_count": 221,
   "id": "73544efc",
   "metadata": {},
   "outputs": [
    {
     "name": "stderr",
     "output_type": "stream",
     "text": [
      "<ipython-input-221-8474686009f9>:1: SettingWithCopyWarning: \n",
      "A value is trying to be set on a copy of a slice from a DataFrame.\n",
      "Try using .loc[row_indexer,col_indexer] = value instead\n",
      "\n",
      "See the caveats in the documentation: https://pandas.pydata.org/pandas-docs/stable/user_guide/indexing.html#returning-a-view-versus-a-copy\n",
      "  test_set[\"predictions\"]=actual_predictions\n"
     ]
    }
   ],
   "source": [
    "test_set[\"predictions\"]=actual_predictions"
   ]
  },
  {
   "cell_type": "code",
   "execution_count": 222,
   "id": "978ce75f",
   "metadata": {},
   "outputs": [
    {
     "data": {
      "text/html": [
       "<div>\n",
       "<style scoped>\n",
       "    .dataframe tbody tr th:only-of-type {\n",
       "        vertical-align: middle;\n",
       "    }\n",
       "\n",
       "    .dataframe tbody tr th {\n",
       "        vertical-align: top;\n",
       "    }\n",
       "\n",
       "    .dataframe thead th {\n",
       "        text-align: right;\n",
       "    }\n",
       "</style>\n",
       "<table border=\"1\" class=\"dataframe\">\n",
       "  <thead>\n",
       "    <tr style=\"text-align: right;\">\n",
       "      <th></th>\n",
       "      <th>Sin</th>\n",
       "      <th>predictions</th>\n",
       "    </tr>\n",
       "  </thead>\n",
       "  <tbody>\n",
       "    <tr>\n",
       "      <th>45.188377</th>\n",
       "      <td>0.934225</td>\n",
       "      <td>0.933931</td>\n",
       "    </tr>\n",
       "    <tr>\n",
       "      <th>45.286573</th>\n",
       "      <td>0.964693</td>\n",
       "      <td>0.966550</td>\n",
       "    </tr>\n",
       "    <tr>\n",
       "      <th>45.384770</th>\n",
       "      <td>0.985867</td>\n",
       "      <td>0.988966</td>\n",
       "    </tr>\n",
       "    <tr>\n",
       "      <th>45.482966</th>\n",
       "      <td>0.997542</td>\n",
       "      <td>1.003557</td>\n",
       "    </tr>\n",
       "    <tr>\n",
       "      <th>45.581162</th>\n",
       "      <td>0.999606</td>\n",
       "      <td>1.007775</td>\n",
       "    </tr>\n",
       "    <tr>\n",
       "      <th>45.679359</th>\n",
       "      <td>0.992039</td>\n",
       "      <td>1.002512</td>\n",
       "    </tr>\n",
       "    <tr>\n",
       "      <th>45.777555</th>\n",
       "      <td>0.974914</td>\n",
       "      <td>0.986898</td>\n",
       "    </tr>\n",
       "    <tr>\n",
       "      <th>45.875752</th>\n",
       "      <td>0.948396</td>\n",
       "      <td>0.961967</td>\n",
       "    </tr>\n",
       "    <tr>\n",
       "      <th>45.973948</th>\n",
       "      <td>0.912740</td>\n",
       "      <td>0.928354</td>\n",
       "    </tr>\n",
       "    <tr>\n",
       "      <th>46.072144</th>\n",
       "      <td>0.868290</td>\n",
       "      <td>0.886761</td>\n",
       "    </tr>\n",
       "    <tr>\n",
       "      <th>46.170341</th>\n",
       "      <td>0.815475</td>\n",
       "      <td>0.838551</td>\n",
       "    </tr>\n",
       "    <tr>\n",
       "      <th>46.268537</th>\n",
       "      <td>0.754802</td>\n",
       "      <td>0.784031</td>\n",
       "    </tr>\n",
       "    <tr>\n",
       "      <th>46.366733</th>\n",
       "      <td>0.686857</td>\n",
       "      <td>0.725108</td>\n",
       "    </tr>\n",
       "    <tr>\n",
       "      <th>46.464930</th>\n",
       "      <td>0.612295</td>\n",
       "      <td>0.660338</td>\n",
       "    </tr>\n",
       "    <tr>\n",
       "      <th>46.563126</th>\n",
       "      <td>0.531833</td>\n",
       "      <td>0.592726</td>\n",
       "    </tr>\n",
       "    <tr>\n",
       "      <th>46.661323</th>\n",
       "      <td>0.446247</td>\n",
       "      <td>0.519734</td>\n",
       "    </tr>\n",
       "    <tr>\n",
       "      <th>46.759519</th>\n",
       "      <td>0.356361</td>\n",
       "      <td>0.444160</td>\n",
       "    </tr>\n",
       "    <tr>\n",
       "      <th>46.857715</th>\n",
       "      <td>0.263042</td>\n",
       "      <td>0.364314</td>\n",
       "    </tr>\n",
       "    <tr>\n",
       "      <th>46.955912</th>\n",
       "      <td>0.167189</td>\n",
       "      <td>0.282165</td>\n",
       "    </tr>\n",
       "    <tr>\n",
       "      <th>47.054108</th>\n",
       "      <td>0.069725</td>\n",
       "      <td>0.197597</td>\n",
       "    </tr>\n",
       "    <tr>\n",
       "      <th>47.152305</th>\n",
       "      <td>-0.028411</td>\n",
       "      <td>0.111692</td>\n",
       "    </tr>\n",
       "    <tr>\n",
       "      <th>47.250501</th>\n",
       "      <td>-0.126273</td>\n",
       "      <td>0.025468</td>\n",
       "    </tr>\n",
       "    <tr>\n",
       "      <th>47.348697</th>\n",
       "      <td>-0.222919</td>\n",
       "      <td>-0.060591</td>\n",
       "    </tr>\n",
       "    <tr>\n",
       "      <th>47.446894</th>\n",
       "      <td>-0.317417</td>\n",
       "      <td>-0.144828</td>\n",
       "    </tr>\n",
       "    <tr>\n",
       "      <th>47.545090</th>\n",
       "      <td>-0.408856</td>\n",
       "      <td>-0.228136</td>\n",
       "    </tr>\n",
       "    <tr>\n",
       "      <th>47.643287</th>\n",
       "      <td>-0.496357</td>\n",
       "      <td>-0.307561</td>\n",
       "    </tr>\n",
       "    <tr>\n",
       "      <th>47.741483</th>\n",
       "      <td>-0.579075</td>\n",
       "      <td>-0.386016</td>\n",
       "    </tr>\n",
       "    <tr>\n",
       "      <th>47.839679</th>\n",
       "      <td>-0.656213</td>\n",
       "      <td>-0.459492</td>\n",
       "    </tr>\n",
       "    <tr>\n",
       "      <th>47.937876</th>\n",
       "      <td>-0.727030</td>\n",
       "      <td>-0.531591</td>\n",
       "    </tr>\n",
       "    <tr>\n",
       "      <th>48.036072</th>\n",
       "      <td>-0.790841</td>\n",
       "      <td>-0.598630</td>\n",
       "    </tr>\n",
       "    <tr>\n",
       "      <th>48.134269</th>\n",
       "      <td>-0.847033</td>\n",
       "      <td>-0.662845</td>\n",
       "    </tr>\n",
       "    <tr>\n",
       "      <th>48.232465</th>\n",
       "      <td>-0.895064</td>\n",
       "      <td>-0.722055</td>\n",
       "    </tr>\n",
       "    <tr>\n",
       "      <th>48.330661</th>\n",
       "      <td>-0.934471</td>\n",
       "      <td>-0.776341</td>\n",
       "    </tr>\n",
       "    <tr>\n",
       "      <th>48.428858</th>\n",
       "      <td>-0.964875</td>\n",
       "      <td>-0.824955</td>\n",
       "    </tr>\n",
       "    <tr>\n",
       "      <th>48.527054</th>\n",
       "      <td>-0.985983</td>\n",
       "      <td>-0.866396</td>\n",
       "    </tr>\n",
       "    <tr>\n",
       "      <th>48.625251</th>\n",
       "      <td>-0.997590</td>\n",
       "      <td>-0.901736</td>\n",
       "    </tr>\n",
       "    <tr>\n",
       "      <th>48.723447</th>\n",
       "      <td>-0.999586</td>\n",
       "      <td>-0.927032</td>\n",
       "    </tr>\n",
       "    <tr>\n",
       "      <th>48.821643</th>\n",
       "      <td>-0.991952</td>\n",
       "      <td>-0.947217</td>\n",
       "    </tr>\n",
       "    <tr>\n",
       "      <th>48.919840</th>\n",
       "      <td>-0.974760</td>\n",
       "      <td>-0.954463</td>\n",
       "    </tr>\n",
       "    <tr>\n",
       "      <th>49.018036</th>\n",
       "      <td>-0.948176</td>\n",
       "      <td>-0.957837</td>\n",
       "    </tr>\n",
       "    <tr>\n",
       "      <th>49.116232</th>\n",
       "      <td>-0.912457</td>\n",
       "      <td>-0.947082</td>\n",
       "    </tr>\n",
       "    <tr>\n",
       "      <th>49.214429</th>\n",
       "      <td>-0.867947</td>\n",
       "      <td>-0.932106</td>\n",
       "    </tr>\n",
       "    <tr>\n",
       "      <th>49.312625</th>\n",
       "      <td>-0.815074</td>\n",
       "      <td>-0.904191</td>\n",
       "    </tr>\n",
       "    <tr>\n",
       "      <th>49.410822</th>\n",
       "      <td>-0.754348</td>\n",
       "      <td>-0.870243</td>\n",
       "    </tr>\n",
       "    <tr>\n",
       "      <th>49.509018</th>\n",
       "      <td>-0.686354</td>\n",
       "      <td>-0.825851</td>\n",
       "    </tr>\n",
       "    <tr>\n",
       "      <th>49.607214</th>\n",
       "      <td>-0.611748</td>\n",
       "      <td>-0.773534</td>\n",
       "    </tr>\n",
       "    <tr>\n",
       "      <th>49.705411</th>\n",
       "      <td>-0.531247</td>\n",
       "      <td>-0.714131</td>\n",
       "    </tr>\n",
       "    <tr>\n",
       "      <th>49.803607</th>\n",
       "      <td>-0.445628</td>\n",
       "      <td>-0.644576</td>\n",
       "    </tr>\n",
       "    <tr>\n",
       "      <th>49.901804</th>\n",
       "      <td>-0.355715</td>\n",
       "      <td>-0.573246</td>\n",
       "    </tr>\n",
       "    <tr>\n",
       "      <th>50.000000</th>\n",
       "      <td>-0.262375</td>\n",
       "      <td>-0.488461</td>\n",
       "    </tr>\n",
       "  </tbody>\n",
       "</table>\n",
       "</div>"
      ],
      "text/plain": [
       "                Sin  predictions\n",
       "45.188377  0.934225     0.933931\n",
       "45.286573  0.964693     0.966550\n",
       "45.384770  0.985867     0.988966\n",
       "45.482966  0.997542     1.003557\n",
       "45.581162  0.999606     1.007775\n",
       "45.679359  0.992039     1.002512\n",
       "45.777555  0.974914     0.986898\n",
       "45.875752  0.948396     0.961967\n",
       "45.973948  0.912740     0.928354\n",
       "46.072144  0.868290     0.886761\n",
       "46.170341  0.815475     0.838551\n",
       "46.268537  0.754802     0.784031\n",
       "46.366733  0.686857     0.725108\n",
       "46.464930  0.612295     0.660338\n",
       "46.563126  0.531833     0.592726\n",
       "46.661323  0.446247     0.519734\n",
       "46.759519  0.356361     0.444160\n",
       "46.857715  0.263042     0.364314\n",
       "46.955912  0.167189     0.282165\n",
       "47.054108  0.069725     0.197597\n",
       "47.152305 -0.028411     0.111692\n",
       "47.250501 -0.126273     0.025468\n",
       "47.348697 -0.222919    -0.060591\n",
       "47.446894 -0.317417    -0.144828\n",
       "47.545090 -0.408856    -0.228136\n",
       "47.643287 -0.496357    -0.307561\n",
       "47.741483 -0.579075    -0.386016\n",
       "47.839679 -0.656213    -0.459492\n",
       "47.937876 -0.727030    -0.531591\n",
       "48.036072 -0.790841    -0.598630\n",
       "48.134269 -0.847033    -0.662845\n",
       "48.232465 -0.895064    -0.722055\n",
       "48.330661 -0.934471    -0.776341\n",
       "48.428858 -0.964875    -0.824955\n",
       "48.527054 -0.985983    -0.866396\n",
       "48.625251 -0.997590    -0.901736\n",
       "48.723447 -0.999586    -0.927032\n",
       "48.821643 -0.991952    -0.947217\n",
       "48.919840 -0.974760    -0.954463\n",
       "49.018036 -0.948176    -0.957837\n",
       "49.116232 -0.912457    -0.947082\n",
       "49.214429 -0.867947    -0.932106\n",
       "49.312625 -0.815074    -0.904191\n",
       "49.410822 -0.754348    -0.870243\n",
       "49.509018 -0.686354    -0.825851\n",
       "49.607214 -0.611748    -0.773534\n",
       "49.705411 -0.531247    -0.714131\n",
       "49.803607 -0.445628    -0.644576\n",
       "49.901804 -0.355715    -0.573246\n",
       "50.000000 -0.262375    -0.488461"
      ]
     },
     "execution_count": 222,
     "metadata": {},
     "output_type": "execute_result"
    }
   ],
   "source": [
    "test_set"
   ]
  },
  {
   "cell_type": "code",
   "execution_count": 223,
   "id": "9fa8740f",
   "metadata": {},
   "outputs": [
    {
     "data": {
      "text/plain": [
       "<AxesSubplot:>"
      ]
     },
     "execution_count": 223,
     "metadata": {},
     "output_type": "execute_result"
    },
    {
     "data": {
      "image/png": "[encoded data removed]",
      "text/plain": [
       "<Figure size 720x360 with 1 Axes>"
      ]
     },
     "metadata": {
      "needs_background": "light"
     },
     "output_type": "display_data"
    }
   ],
   "source": [
    "test_set.plot(figsize=(10,5))"
   ]
  },
  {
   "cell_type": "code",
   "execution_count": null,
   "id": "23814398",
   "metadata": {},
   "outputs": [],
   "source": []
  }
 ],
 "metadata": {
  "kernelspec": {
   "display_name": "Python 3",
   "language": "python",
   "name": "python3"
  },
  "language_info": {
   "codemirror_mode": {
    "name": "ipython",
    "version": 3
   },
   "file_extension": ".py",
   "mimetype": "text/x-python",
   "name": "python",
   "nbconvert_exporter": "python",
   "pygments_lexer": "ipython3",
   "version": "3.8.8"
  }
 },
 "nbformat": 4,
 "nbformat_minor": 5
}
