{
 "cells": [
  {
   "cell_type": "code",
   "execution_count": 1,
   "id": "53448816",
   "metadata": {},
   "outputs": [],
   "source": [
    "import pandas as pd\n",
    "import numpy as np\n",
    "import matplotlib.pyplot as plt\n",
    "import seaborn as sbn"
   ]
  },
  {
   "cell_type": "code",
   "execution_count": 2,
   "id": "ce7d961f",
   "metadata": {},
   "outputs": [],
   "source": [
    "data=np.linspace(1,50,500)\n",
    "y=np.sin(data)"
   ]
  },
  {
   "cell_type": "code",
   "execution_count": 3,
   "id": "b94673ef",
   "metadata": {},
   "outputs": [],
   "source": [
    "df=pd.DataFrame(data=y,index=data,columns=[\"Sin\"])"
   ]
  },
  {
   "cell_type": "code",
   "execution_count": 4,
   "id": "8648f14a",
   "metadata": {},
   "outputs": [
    {
     "data": {
      "text/html": [
       "<div>\n",
       "<style scoped>\n",
       "    .dataframe tbody tr th:only-of-type {\n",
       "        vertical-align: middle;\n",
       "    }\n",
       "\n",
       "    .dataframe tbody tr th {\n",
       "        vertical-align: top;\n",
       "    }\n",
       "\n",
       "    .dataframe thead th {\n",
       "        text-align: right;\n",
       "    }\n",
       "</style>\n",
       "<table border=\"1\" class=\"dataframe\">\n",
       "  <thead>\n",
       "    <tr style=\"text-align: right;\">\n",
       "      <th></th>\n",
       "      <th>Sin</th>\n",
       "    </tr>\n",
       "  </thead>\n",
       "  <tbody>\n",
       "    <tr>\n",
       "      <th>1.000000</th>\n",
       "      <td>0.841471</td>\n",
       "    </tr>\n",
       "    <tr>\n",
       "      <th>1.098196</th>\n",
       "      <td>0.890388</td>\n",
       "    </tr>\n",
       "    <tr>\n",
       "      <th>1.196393</th>\n",
       "      <td>0.930726</td>\n",
       "    </tr>\n",
       "    <tr>\n",
       "      <th>1.294589</th>\n",
       "      <td>0.962097</td>\n",
       "    </tr>\n",
       "    <tr>\n",
       "      <th>1.392786</th>\n",
       "      <td>0.984198</td>\n",
       "    </tr>\n",
       "    <tr>\n",
       "      <th>...</th>\n",
       "      <td>...</td>\n",
       "    </tr>\n",
       "    <tr>\n",
       "      <th>49.607214</th>\n",
       "      <td>-0.611748</td>\n",
       "    </tr>\n",
       "    <tr>\n",
       "      <th>49.705411</th>\n",
       "      <td>-0.531247</td>\n",
       "    </tr>\n",
       "    <tr>\n",
       "      <th>49.803607</th>\n",
       "      <td>-0.445628</td>\n",
       "    </tr>\n",
       "    <tr>\n",
       "      <th>49.901804</th>\n",
       "      <td>-0.355715</td>\n",
       "    </tr>\n",
       "    <tr>\n",
       "      <th>50.000000</th>\n",
       "      <td>-0.262375</td>\n",
       "    </tr>\n",
       "  </tbody>\n",
       "</table>\n",
       "<p>500 rows × 1 columns</p>\n",
       "</div>"
      ],
      "text/plain": [
       "                Sin\n",
       "1.000000   0.841471\n",
       "1.098196   0.890388\n",
       "1.196393   0.930726\n",
       "1.294589   0.962097\n",
       "1.392786   0.984198\n",
       "...             ...\n",
       "49.607214 -0.611748\n",
       "49.705411 -0.531247\n",
       "49.803607 -0.445628\n",
       "49.901804 -0.355715\n",
       "50.000000 -0.262375\n",
       "\n",
       "[500 rows x 1 columns]"
      ]
     },
     "execution_count": 4,
     "metadata": {},
     "output_type": "execute_result"
    }
   ],
   "source": [
    "df"
   ]
  },
  {
   "cell_type": "code",
   "execution_count": 5,
   "id": "25a838c2",
   "metadata": {},
   "outputs": [
    {
     "data": {
      "text/plain": [
       "500"
      ]
     },
     "execution_count": 5,
     "metadata": {},
     "output_type": "execute_result"
    }
   ],
   "source": [
    "len(df)"
   ]
  },
  {
   "cell_type": "code",
   "execution_count": 6,
   "id": "6de8c174",
   "metadata": {},
   "outputs": [
    {
     "data": {
      "text/plain": [
       "50.0"
      ]
     },
     "execution_count": 6,
     "metadata": {},
     "output_type": "execute_result"
    }
   ],
   "source": [
    "test_per=len(df)*0.1\n",
    "test_per"
   ]
  },
  {
   "cell_type": "code",
   "execution_count": 7,
   "id": "98fba82e",
   "metadata": {},
   "outputs": [],
   "source": [
    "train_set=df.iloc[:-int(test_per)]"
   ]
  },
  {
   "cell_type": "code",
   "execution_count": 8,
   "id": "e3c3a6a2",
   "metadata": {},
   "outputs": [
    {
     "data": {
      "text/html": [
       "<div>\n",
       "<style scoped>\n",
       "    .dataframe tbody tr th:only-of-type {\n",
       "        vertical-align: middle;\n",
       "    }\n",
       "\n",
       "    .dataframe tbody tr th {\n",
       "        vertical-align: top;\n",
       "    }\n",
       "\n",
       "    .dataframe thead th {\n",
       "        text-align: right;\n",
       "    }\n",
       "</style>\n",
       "<table border=\"1\" class=\"dataframe\">\n",
       "  <thead>\n",
       "    <tr style=\"text-align: right;\">\n",
       "      <th></th>\n",
       "      <th>Sin</th>\n",
       "    </tr>\n",
       "  </thead>\n",
       "  <tbody>\n",
       "    <tr>\n",
       "      <th>1.000000</th>\n",
       "      <td>0.841471</td>\n",
       "    </tr>\n",
       "    <tr>\n",
       "      <th>1.098196</th>\n",
       "      <td>0.890388</td>\n",
       "    </tr>\n",
       "    <tr>\n",
       "      <th>1.196393</th>\n",
       "      <td>0.930726</td>\n",
       "    </tr>\n",
       "    <tr>\n",
       "      <th>1.294589</th>\n",
       "      <td>0.962097</td>\n",
       "    </tr>\n",
       "    <tr>\n",
       "      <th>1.392786</th>\n",
       "      <td>0.984198</td>\n",
       "    </tr>\n",
       "    <tr>\n",
       "      <th>...</th>\n",
       "      <td>...</td>\n",
       "    </tr>\n",
       "    <tr>\n",
       "      <th>44.697395</th>\n",
       "      <td>0.655691</td>\n",
       "    </tr>\n",
       "    <tr>\n",
       "      <th>44.795591</th>\n",
       "      <td>0.726554</td>\n",
       "    </tr>\n",
       "    <tr>\n",
       "      <th>44.893788</th>\n",
       "      <td>0.790418</td>\n",
       "    </tr>\n",
       "    <tr>\n",
       "      <th>44.991984</th>\n",
       "      <td>0.846665</td>\n",
       "    </tr>\n",
       "    <tr>\n",
       "      <th>45.090180</th>\n",
       "      <td>0.894755</td>\n",
       "    </tr>\n",
       "  </tbody>\n",
       "</table>\n",
       "<p>450 rows × 1 columns</p>\n",
       "</div>"
      ],
      "text/plain": [
       "                Sin\n",
       "1.000000   0.841471\n",
       "1.098196   0.890388\n",
       "1.196393   0.930726\n",
       "1.294589   0.962097\n",
       "1.392786   0.984198\n",
       "...             ...\n",
       "44.697395  0.655691\n",
       "44.795591  0.726554\n",
       "44.893788  0.790418\n",
       "44.991984  0.846665\n",
       "45.090180  0.894755\n",
       "\n",
       "[450 rows x 1 columns]"
      ]
     },
     "execution_count": 8,
     "metadata": {},
     "output_type": "execute_result"
    }
   ],
   "source": [
    "train_set"
   ]
  },
  {
   "cell_type": "code",
   "execution_count": 9,
   "id": "b0af7842",
   "metadata": {},
   "outputs": [],
   "source": [
    "test_set=df.iloc[-int(test_per):]"
   ]
  },
  {
   "cell_type": "code",
   "execution_count": 10,
   "id": "3ae5eecb",
   "metadata": {},
   "outputs": [
    {
     "data": {
      "text/html": [
       "<div>\n",
       "<style scoped>\n",
       "    .dataframe tbody tr th:only-of-type {\n",
       "        vertical-align: middle;\n",
       "    }\n",
       "\n",
       "    .dataframe tbody tr th {\n",
       "        vertical-align: top;\n",
       "    }\n",
       "\n",
       "    .dataframe thead th {\n",
       "        text-align: right;\n",
       "    }\n",
       "</style>\n",
       "<table border=\"1\" class=\"dataframe\">\n",
       "  <thead>\n",
       "    <tr style=\"text-align: right;\">\n",
       "      <th></th>\n",
       "      <th>Sin</th>\n",
       "    </tr>\n",
       "  </thead>\n",
       "  <tbody>\n",
       "    <tr>\n",
       "      <th>45.188377</th>\n",
       "      <td>0.934225</td>\n",
       "    </tr>\n",
       "    <tr>\n",
       "      <th>45.286573</th>\n",
       "      <td>0.964693</td>\n",
       "    </tr>\n",
       "    <tr>\n",
       "      <th>45.384770</th>\n",
       "      <td>0.985867</td>\n",
       "    </tr>\n",
       "    <tr>\n",
       "      <th>45.482966</th>\n",
       "      <td>0.997542</td>\n",
       "    </tr>\n",
       "    <tr>\n",
       "      <th>45.581162</th>\n",
       "      <td>0.999606</td>\n",
       "    </tr>\n",
       "    <tr>\n",
       "      <th>45.679359</th>\n",
       "      <td>0.992039</td>\n",
       "    </tr>\n",
       "    <tr>\n",
       "      <th>45.777555</th>\n",
       "      <td>0.974914</td>\n",
       "    </tr>\n",
       "    <tr>\n",
       "      <th>45.875752</th>\n",
       "      <td>0.948396</td>\n",
       "    </tr>\n",
       "    <tr>\n",
       "      <th>45.973948</th>\n",
       "      <td>0.912740</td>\n",
       "    </tr>\n",
       "    <tr>\n",
       "      <th>46.072144</th>\n",
       "      <td>0.868290</td>\n",
       "    </tr>\n",
       "    <tr>\n",
       "      <th>46.170341</th>\n",
       "      <td>0.815475</td>\n",
       "    </tr>\n",
       "    <tr>\n",
       "      <th>46.268537</th>\n",
       "      <td>0.754802</td>\n",
       "    </tr>\n",
       "    <tr>\n",
       "      <th>46.366733</th>\n",
       "      <td>0.686857</td>\n",
       "    </tr>\n",
       "    <tr>\n",
       "      <th>46.464930</th>\n",
       "      <td>0.612295</td>\n",
       "    </tr>\n",
       "    <tr>\n",
       "      <th>46.563126</th>\n",
       "      <td>0.531833</td>\n",
       "    </tr>\n",
       "    <tr>\n",
       "      <th>46.661323</th>\n",
       "      <td>0.446247</td>\n",
       "    </tr>\n",
       "    <tr>\n",
       "      <th>46.759519</th>\n",
       "      <td>0.356361</td>\n",
       "    </tr>\n",
       "    <tr>\n",
       "      <th>46.857715</th>\n",
       "      <td>0.263042</td>\n",
       "    </tr>\n",
       "    <tr>\n",
       "      <th>46.955912</th>\n",
       "      <td>0.167189</td>\n",
       "    </tr>\n",
       "    <tr>\n",
       "      <th>47.054108</th>\n",
       "      <td>0.069725</td>\n",
       "    </tr>\n",
       "    <tr>\n",
       "      <th>47.152305</th>\n",
       "      <td>-0.028411</td>\n",
       "    </tr>\n",
       "    <tr>\n",
       "      <th>47.250501</th>\n",
       "      <td>-0.126273</td>\n",
       "    </tr>\n",
       "    <tr>\n",
       "      <th>47.348697</th>\n",
       "      <td>-0.222919</td>\n",
       "    </tr>\n",
       "    <tr>\n",
       "      <th>47.446894</th>\n",
       "      <td>-0.317417</td>\n",
       "    </tr>\n",
       "    <tr>\n",
       "      <th>47.545090</th>\n",
       "      <td>-0.408856</td>\n",
       "    </tr>\n",
       "    <tr>\n",
       "      <th>47.643287</th>\n",
       "      <td>-0.496357</td>\n",
       "    </tr>\n",
       "    <tr>\n",
       "      <th>47.741483</th>\n",
       "      <td>-0.579075</td>\n",
       "    </tr>\n",
       "    <tr>\n",
       "      <th>47.839679</th>\n",
       "      <td>-0.656213</td>\n",
       "    </tr>\n",
       "    <tr>\n",
       "      <th>47.937876</th>\n",
       "      <td>-0.727030</td>\n",
       "    </tr>\n",
       "    <tr>\n",
       "      <th>48.036072</th>\n",
       "      <td>-0.790841</td>\n",
       "    </tr>\n",
       "    <tr>\n",
       "      <th>48.134269</th>\n",
       "      <td>-0.847033</td>\n",
       "    </tr>\n",
       "    <tr>\n",
       "      <th>48.232465</th>\n",
       "      <td>-0.895064</td>\n",
       "    </tr>\n",
       "    <tr>\n",
       "      <th>48.330661</th>\n",
       "      <td>-0.934471</td>\n",
       "    </tr>\n",
       "    <tr>\n",
       "      <th>48.428858</th>\n",
       "      <td>-0.964875</td>\n",
       "    </tr>\n",
       "    <tr>\n",
       "      <th>48.527054</th>\n",
       "      <td>-0.985983</td>\n",
       "    </tr>\n",
       "    <tr>\n",
       "      <th>48.625251</th>\n",
       "      <td>-0.997590</td>\n",
       "    </tr>\n",
       "    <tr>\n",
       "      <th>48.723447</th>\n",
       "      <td>-0.999586</td>\n",
       "    </tr>\n",
       "    <tr>\n",
       "      <th>48.821643</th>\n",
       "      <td>-0.991952</td>\n",
       "    </tr>\n",
       "    <tr>\n",
       "      <th>48.919840</th>\n",
       "      <td>-0.974760</td>\n",
       "    </tr>\n",
       "    <tr>\n",
       "      <th>49.018036</th>\n",
       "      <td>-0.948176</td>\n",
       "    </tr>\n",
       "    <tr>\n",
       "      <th>49.116232</th>\n",
       "      <td>-0.912457</td>\n",
       "    </tr>\n",
       "    <tr>\n",
       "      <th>49.214429</th>\n",
       "      <td>-0.867947</td>\n",
       "    </tr>\n",
       "    <tr>\n",
       "      <th>49.312625</th>\n",
       "      <td>-0.815074</td>\n",
       "    </tr>\n",
       "    <tr>\n",
       "      <th>49.410822</th>\n",
       "      <td>-0.754348</td>\n",
       "    </tr>\n",
       "    <tr>\n",
       "      <th>49.509018</th>\n",
       "      <td>-0.686354</td>\n",
       "    </tr>\n",
       "    <tr>\n",
       "      <th>49.607214</th>\n",
       "      <td>-0.611748</td>\n",
       "    </tr>\n",
       "    <tr>\n",
       "      <th>49.705411</th>\n",
       "      <td>-0.531247</td>\n",
       "    </tr>\n",
       "    <tr>\n",
       "      <th>49.803607</th>\n",
       "      <td>-0.445628</td>\n",
       "    </tr>\n",
       "    <tr>\n",
       "      <th>49.901804</th>\n",
       "      <td>-0.355715</td>\n",
       "    </tr>\n",
       "    <tr>\n",
       "      <th>50.000000</th>\n",
       "      <td>-0.262375</td>\n",
       "    </tr>\n",
       "  </tbody>\n",
       "</table>\n",
       "</div>"
      ],
      "text/plain": [
       "                Sin\n",
       "45.188377  0.934225\n",
       "45.286573  0.964693\n",
       "45.384770  0.985867\n",
       "45.482966  0.997542\n",
       "45.581162  0.999606\n",
       "45.679359  0.992039\n",
       "45.777555  0.974914\n",
       "45.875752  0.948396\n",
       "45.973948  0.912740\n",
       "46.072144  0.868290\n",
       "46.170341  0.815475\n",
       "46.268537  0.754802\n",
       "46.366733  0.686857\n",
       "46.464930  0.612295\n",
       "46.563126  0.531833\n",
       "46.661323  0.446247\n",
       "46.759519  0.356361\n",
       "46.857715  0.263042\n",
       "46.955912  0.167189\n",
       "47.054108  0.069725\n",
       "47.152305 -0.028411\n",
       "47.250501 -0.126273\n",
       "47.348697 -0.222919\n",
       "47.446894 -0.317417\n",
       "47.545090 -0.408856\n",
       "47.643287 -0.496357\n",
       "47.741483 -0.579075\n",
       "47.839679 -0.656213\n",
       "47.937876 -0.727030\n",
       "48.036072 -0.790841\n",
       "48.134269 -0.847033\n",
       "48.232465 -0.895064\n",
       "48.330661 -0.934471\n",
       "48.428858 -0.964875\n",
       "48.527054 -0.985983\n",
       "48.625251 -0.997590\n",
       "48.723447 -0.999586\n",
       "48.821643 -0.991952\n",
       "48.919840 -0.974760\n",
       "49.018036 -0.948176\n",
       "49.116232 -0.912457\n",
       "49.214429 -0.867947\n",
       "49.312625 -0.815074\n",
       "49.410822 -0.754348\n",
       "49.509018 -0.686354\n",
       "49.607214 -0.611748\n",
       "49.705411 -0.531247\n",
       "49.803607 -0.445628\n",
       "49.901804 -0.355715\n",
       "50.000000 -0.262375"
      ]
     },
     "execution_count": 10,
     "metadata": {},
     "output_type": "execute_result"
    }
   ],
   "source": [
    "test_set"
   ]
  },
  {
   "cell_type": "code",
   "execution_count": 11,
   "id": "5b314df3",
   "metadata": {},
   "outputs": [],
   "source": [
    "#As we know in RNN we give output from previos cell to next cell , so we should also scale the y in RNN "
   ]
  },
  {
   "cell_type": "code",
   "execution_count": 12,
   "id": "84066a4a",
   "metadata": {},
   "outputs": [],
   "source": [
    "from sklearn.preprocessing import MinMaxScaler"
   ]
  },
  {
   "cell_type": "code",
   "execution_count": 13,
   "id": "42e2d854",
   "metadata": {},
   "outputs": [
    {
     "data": {
      "text/plain": [
       "MinMaxScaler()"
      ]
     },
     "execution_count": 13,
     "metadata": {},
     "output_type": "execute_result"
    }
   ],
   "source": [
    "scaler=MinMaxScaler()\n",
    "scaler.fit(train_set)"
   ]
  },
  {
   "cell_type": "code",
   "execution_count": 14,
   "id": "333d3519",
   "metadata": {},
   "outputs": [],
   "source": [
    "scaled_train=scaler.transform(train_set)\n",
    "scaled_test=scaler.transform(test_set)"
   ]
  },
  {
   "cell_type": "code",
   "execution_count": 15,
   "id": "494baff1",
   "metadata": {},
   "outputs": [],
   "source": [
    "from tensorflow.keras.preprocessing.sequence import TimeseriesGenerator\n",
    "from tensorflow.keras.models import Sequential\n",
    "from tensorflow.keras.layers import Dense,LSTM,SimpleRNN\n",
    "from tensorflow.keras.callbacks import EarlyStopping"
   ]
  },
  {
   "cell_type": "code",
   "execution_count": 16,
   "id": "8d9eb9d1",
   "metadata": {},
   "outputs": [
    {
     "data": {
      "text/plain": [
       "401"
      ]
     },
     "execution_count": 16,
     "metadata": {},
     "output_type": "execute_result"
    }
   ],
   "source": [
    "length=49\n",
    "batch_size=1\n",
    "generator=TimeseriesGenerator(scaled_train,scaled_train,length=length,batch_size=batch_size)\n",
    "len(generator)"
   ]
  },
  {
   "cell_type": "code",
   "execution_count": 17,
   "id": "1d11807f",
   "metadata": {},
   "outputs": [],
   "source": [
    "val_generator=TimeseriesGenerator(scaled_test,scaled_test,length=length,batch_size=batch_size)"
   ]
  },
  {
   "cell_type": "code",
   "execution_count": 18,
   "id": "37ba1d9d",
   "metadata": {},
   "outputs": [],
   "source": [
    "n_features=1\n",
    "model=Sequential()\n",
    "model.add(SimpleRNN(49,input_shape=(length,n_features)))\n",
    "model.add(Dense(1))\n",
    "model.compile(optimizer=\"adam\",loss=\"mse\")"
   ]
  },
  {
   "cell_type": "code",
   "execution_count": 19,
   "id": "0f67e841",
   "metadata": {},
   "outputs": [],
   "source": [
    "early=EarlyStopping(monitor=\"val_loss\",patience=2)"
   ]
  },
  {
   "cell_type": "code",
   "execution_count": 20,
   "id": "5ca7c0dc",
   "metadata": {},
   "outputs": [
    {
     "name": "stdout",
     "output_type": "stream",
     "text": [
      "Epoch 1/20\n",
      "401/401 [==============================] - 4s 9ms/step - loss: 0.0061 - val_loss: 1.6091e-07\n",
      "Epoch 2/20\n",
      "401/401 [==============================] - 4s 11ms/step - loss: 0.0012 - val_loss: 2.5679e-05\n",
      "Epoch 3/20\n",
      "401/401 [==============================] - 4s 10ms/step - loss: 5.8248e-05 - val_loss: 2.0193e-05\n"
     ]
    }
   ],
   "source": [
    "model.fit(generator,epochs=20,validation_data=val_generator,callbacks=[early]);"
   ]
  },
  {
   "cell_type": "code",
   "execution_count": 21,
   "id": "459c0046",
   "metadata": {},
   "outputs": [
    {
     "data": {
      "text/html": [
       "<div>\n",
       "<style scoped>\n",
       "    .dataframe tbody tr th:only-of-type {\n",
       "        vertical-align: middle;\n",
       "    }\n",
       "\n",
       "    .dataframe tbody tr th {\n",
       "        vertical-align: top;\n",
       "    }\n",
       "\n",
       "    .dataframe thead th {\n",
       "        text-align: right;\n",
       "    }\n",
       "</style>\n",
       "<table border=\"1\" class=\"dataframe\">\n",
       "  <thead>\n",
       "    <tr style=\"text-align: right;\">\n",
       "      <th></th>\n",
       "      <th>loss</th>\n",
       "      <th>val_loss</th>\n",
       "    </tr>\n",
       "  </thead>\n",
       "  <tbody>\n",
       "    <tr>\n",
       "      <th>0</th>\n",
       "      <td>0.006066</td>\n",
       "      <td>1.609127e-07</td>\n",
       "    </tr>\n",
       "    <tr>\n",
       "      <th>1</th>\n",
       "      <td>0.001187</td>\n",
       "      <td>2.567862e-05</td>\n",
       "    </tr>\n",
       "    <tr>\n",
       "      <th>2</th>\n",
       "      <td>0.000058</td>\n",
       "      <td>2.019266e-05</td>\n",
       "    </tr>\n",
       "  </tbody>\n",
       "</table>\n",
       "</div>"
      ],
      "text/plain": [
       "       loss      val_loss\n",
       "0  0.006066  1.609127e-07\n",
       "1  0.001187  2.567862e-05\n",
       "2  0.000058  2.019266e-05"
      ]
     },
     "execution_count": 21,
     "metadata": {},
     "output_type": "execute_result"
    }
   ],
   "source": [
    "results=pd.DataFrame(model.history.history)\n",
    "results"
   ]
  },
  {
   "cell_type": "code",
   "execution_count": 22,
   "id": "e8066bbb",
   "metadata": {},
   "outputs": [
    {
     "data": {
      "text/plain": [
       "<AxesSubplot:>"
      ]
     },
     "execution_count": 22,
     "metadata": {},
     "output_type": "execute_result"
    },
    {
     "data": {
      "image/png": "[encoded data removed]",
      "text/plain": [
       "<Figure size 432x288 with 1 Axes>"
      ]
     },
     "metadata": {
      "needs_background": "light"
     },
     "output_type": "display_data"
    }
   ],
   "source": [
    "results.plot()"
   ]
  },
  {
   "cell_type": "code",
   "execution_count": 23,
   "id": "f137751d",
   "metadata": {},
   "outputs": [
    {
     "data": {
      "text/plain": [
       "(1, 49, 1)"
      ]
     },
     "execution_count": 23,
     "metadata": {},
     "output_type": "execute_result"
    }
   ],
   "source": [
    "first_Eval_batch=scaled_train[-length:].reshape(1,length,n_features)\n",
    "first_Eval_batch.shape"
   ]
  },
  {
   "cell_type": "code",
   "execution_count": 24,
   "id": "9947d3a3",
   "metadata": {},
   "outputs": [],
   "source": [
    "prediction_firs_batch=model.predict(first_Eval_batch)"
   ]
  },
  {
   "cell_type": "code",
   "execution_count": 25,
   "id": "c55a7c48",
   "metadata": {},
   "outputs": [
    {
     "data": {
      "text/plain": [
       "array([[0.96372044]], dtype=float32)"
      ]
     },
     "execution_count": 25,
     "metadata": {},
     "output_type": "execute_result"
    }
   ],
   "source": [
    "prediction_firs_batch"
   ]
  },
  {
   "cell_type": "code",
   "execution_count": 26,
   "id": "7161bd52",
   "metadata": {},
   "outputs": [
    {
     "data": {
      "text/plain": [
       "array([0.96719114])"
      ]
     },
     "execution_count": 26,
     "metadata": {},
     "output_type": "execute_result"
    }
   ],
   "source": [
    "#first prediction will be the first item in test data\n",
    "scaled_test[0]"
   ]
  },
  {
   "cell_type": "code",
   "execution_count": 27,
   "id": "817a023a",
   "metadata": {},
   "outputs": [],
   "source": [
    "#now we need to make a for loop to find the next series"
   ]
  },
  {
   "cell_type": "code",
   "execution_count": 28,
   "id": "75797e94",
   "metadata": {},
   "outputs": [],
   "source": [
    "all_predictions=[]\n",
    "eval_batch=scaled_train[-length:].reshape(1,length,n_features)   \n",
    "\n",
    "for i in range(len(test_set)):\n",
    "    prediction_curr_batch=model.predict(eval_batch)\n",
    "    eval_batch= np.append(eval_batch[:,1:,:],[prediction_curr_batch],axis=1)\n",
    "    all_predictions.append(prediction_curr_batch[0])"
   ]
  },
  {
   "cell_type": "code",
   "execution_count": 29,
   "id": "93871ad9",
   "metadata": {},
   "outputs": [
    {
     "data": {
      "text/plain": [
       "[array([0.96372044], dtype=float32),\n",
       " array([0.9784847], dtype=float32),\n",
       " array([0.98759377], dtype=float32),\n",
       " array([0.99263924], dtype=float32),\n",
       " array([0.9919779], dtype=float32),\n",
       " array([0.9870658], dtype=float32),\n",
       " array([0.97750574], dtype=float32),\n",
       " array([0.9631778], dtype=float32),\n",
       " array([0.9442374], dtype=float32),\n",
       " array([0.9205386], dtype=float32),\n",
       " array([0.893224], dtype=float32),\n",
       " array([0.8620157], dtype=float32),\n",
       " array([0.8276959], dtype=float32),\n",
       " array([0.79002863], dtype=float32),\n",
       " array([0.7496572], dtype=float32),\n",
       " array([0.7074169], dtype=float32),\n",
       " array([0.6631022], dtype=float32),\n",
       " array([0.61760765], dtype=float32),\n",
       " array([0.57058555], dtype=float32),\n",
       " array([0.5229356], dtype=float32),\n",
       " array([0.47514224], dtype=float32),\n",
       " array([0.4272022], dtype=float32),\n",
       " array([0.37999973], dtype=float32),\n",
       " array([0.3334576], dtype=float32),\n",
       " array([0.28892225], dtype=float32),\n",
       " array([0.24599172], dtype=float32),\n",
       " array([0.205947], dtype=float32),\n",
       " array([0.16849107], dtype=float32),\n",
       " array([0.1344663], dtype=float32),\n",
       " array([0.10357369], dtype=float32),\n",
       " array([0.07751469], dtype=float32),\n",
       " array([0.0552532], dtype=float32),\n",
       " array([0.03753763], dtype=float32),\n",
       " array([0.02441057], dtype=float32),\n",
       " array([0.01615228], dtype=float32),\n",
       " array([0.01321387], dtype=float32),\n",
       " array([0.01402691], dtype=float32),\n",
       " array([0.02066431], dtype=float32),\n",
       " array([0.03084168], dtype=float32),\n",
       " array([0.04685071], dtype=float32),\n",
       " array([0.06620467], dtype=float32),\n",
       " array([0.09019855], dtype=float32),\n",
       " array([0.11778606], dtype=float32),\n",
       " array([0.14888214], dtype=float32),\n",
       " array([0.18375686], dtype=float32),\n",
       " array([0.2206766], dtype=float32),\n",
       " array([0.26111695], dtype=float32),\n",
       " array([0.3024712], dtype=float32),\n",
       " array([0.34678015], dtype=float32),\n",
       " array([0.3918125], dtype=float32)]"
      ]
     },
     "execution_count": 29,
     "metadata": {},
     "output_type": "execute_result"
    }
   ],
   "source": [
    "all_predictions"
   ]
  },
  {
   "cell_type": "code",
   "execution_count": 30,
   "id": "c85d9d70",
   "metadata": {},
   "outputs": [],
   "source": [
    "actual_predictions=scaler.inverse_transform(all_predictions)"
   ]
  },
  {
   "cell_type": "code",
   "execution_count": 31,
   "id": "73544efc",
   "metadata": {},
   "outputs": [
    {
     "name": "stderr",
     "output_type": "stream",
     "text": [
      "<ipython-input-31-8474686009f9>:1: SettingWithCopyWarning: \n",
      "A value is trying to be set on a copy of a slice from a DataFrame.\n",
      "Try using .loc[row_indexer,col_indexer] = value instead\n",
      "\n",
      "See the caveats in the documentation: https://pandas.pydata.org/pandas-docs/stable/user_guide/indexing.html#returning-a-view-versus-a-copy\n",
      "  test_set[\"predictions\"]=actual_predictions\n"
     ]
    }
   ],
   "source": [
    "test_set[\"predictions\"]=actual_predictions"
   ]
  },
  {
   "cell_type": "code",
   "execution_count": 32,
   "id": "978ce75f",
   "metadata": {},
   "outputs": [
    {
     "data": {
      "text/html": [
       "<div>\n",
       "<style scoped>\n",
       "    .dataframe tbody tr th:only-of-type {\n",
       "        vertical-align: middle;\n",
       "    }\n",
       "\n",
       "    .dataframe tbody tr th {\n",
       "        vertical-align: top;\n",
       "    }\n",
       "\n",
       "    .dataframe thead th {\n",
       "        text-align: right;\n",
       "    }\n",
       "</style>\n",
       "<table border=\"1\" class=\"dataframe\">\n",
       "  <thead>\n",
       "    <tr style=\"text-align: right;\">\n",
       "      <th></th>\n",
       "      <th>Sin</th>\n",
       "      <th>predictions</th>\n",
       "    </tr>\n",
       "  </thead>\n",
       "  <tbody>\n",
       "    <tr>\n",
       "      <th>45.188377</th>\n",
       "      <td>0.934225</td>\n",
       "      <td>0.927285</td>\n",
       "    </tr>\n",
       "    <tr>\n",
       "      <th>45.286573</th>\n",
       "      <td>0.964693</td>\n",
       "      <td>0.956808</td>\n",
       "    </tr>\n",
       "    <tr>\n",
       "      <th>45.384770</th>\n",
       "      <td>0.985867</td>\n",
       "      <td>0.975023</td>\n",
       "    </tr>\n",
       "    <tr>\n",
       "      <th>45.482966</th>\n",
       "      <td>0.997542</td>\n",
       "      <td>0.985112</td>\n",
       "    </tr>\n",
       "    <tr>\n",
       "      <th>45.581162</th>\n",
       "      <td>0.999606</td>\n",
       "      <td>0.983790</td>\n",
       "    </tr>\n",
       "    <tr>\n",
       "      <th>45.679359</th>\n",
       "      <td>0.992039</td>\n",
       "      <td>0.973967</td>\n",
       "    </tr>\n",
       "    <tr>\n",
       "      <th>45.777555</th>\n",
       "      <td>0.974914</td>\n",
       "      <td>0.954850</td>\n",
       "    </tr>\n",
       "    <tr>\n",
       "      <th>45.875752</th>\n",
       "      <td>0.948396</td>\n",
       "      <td>0.926200</td>\n",
       "    </tr>\n",
       "    <tr>\n",
       "      <th>45.973948</th>\n",
       "      <td>0.912740</td>\n",
       "      <td>0.888325</td>\n",
       "    </tr>\n",
       "    <tr>\n",
       "      <th>46.072144</th>\n",
       "      <td>0.868290</td>\n",
       "      <td>0.840936</td>\n",
       "    </tr>\n",
       "    <tr>\n",
       "      <th>46.170341</th>\n",
       "      <td>0.815475</td>\n",
       "      <td>0.786317</td>\n",
       "    </tr>\n",
       "    <tr>\n",
       "      <th>46.268537</th>\n",
       "      <td>0.754802</td>\n",
       "      <td>0.723911</td>\n",
       "    </tr>\n",
       "    <tr>\n",
       "      <th>46.366733</th>\n",
       "      <td>0.686857</td>\n",
       "      <td>0.655283</td>\n",
       "    </tr>\n",
       "    <tr>\n",
       "      <th>46.464930</th>\n",
       "      <td>0.612295</td>\n",
       "      <td>0.579962</td>\n",
       "    </tr>\n",
       "    <tr>\n",
       "      <th>46.563126</th>\n",
       "      <td>0.531833</td>\n",
       "      <td>0.499233</td>\n",
       "    </tr>\n",
       "    <tr>\n",
       "      <th>46.661323</th>\n",
       "      <td>0.446247</td>\n",
       "      <td>0.414767</td>\n",
       "    </tr>\n",
       "    <tr>\n",
       "      <th>46.759519</th>\n",
       "      <td>0.356361</td>\n",
       "      <td>0.326154</td>\n",
       "    </tr>\n",
       "    <tr>\n",
       "      <th>46.857715</th>\n",
       "      <td>0.263042</td>\n",
       "      <td>0.235181</td>\n",
       "    </tr>\n",
       "    <tr>\n",
       "      <th>46.955912</th>\n",
       "      <td>0.167189</td>\n",
       "      <td>0.141153</td>\n",
       "    </tr>\n",
       "    <tr>\n",
       "      <th>47.054108</th>\n",
       "      <td>0.069725</td>\n",
       "      <td>0.045870</td>\n",
       "    </tr>\n",
       "    <tr>\n",
       "      <th>47.152305</th>\n",
       "      <td>-0.028411</td>\n",
       "      <td>-0.049700</td>\n",
       "    </tr>\n",
       "    <tr>\n",
       "      <th>47.250501</th>\n",
       "      <td>-0.126273</td>\n",
       "      <td>-0.145564</td>\n",
       "    </tr>\n",
       "    <tr>\n",
       "      <th>47.348697</th>\n",
       "      <td>-0.222919</td>\n",
       "      <td>-0.239952</td>\n",
       "    </tr>\n",
       "    <tr>\n",
       "      <th>47.446894</th>\n",
       "      <td>-0.317417</td>\n",
       "      <td>-0.333020</td>\n",
       "    </tr>\n",
       "    <tr>\n",
       "      <th>47.545090</th>\n",
       "      <td>-0.408856</td>\n",
       "      <td>-0.422075</td>\n",
       "    </tr>\n",
       "    <tr>\n",
       "      <th>47.643287</th>\n",
       "      <td>-0.496357</td>\n",
       "      <td>-0.507921</td>\n",
       "    </tr>\n",
       "    <tr>\n",
       "      <th>47.741483</th>\n",
       "      <td>-0.579075</td>\n",
       "      <td>-0.587996</td>\n",
       "    </tr>\n",
       "    <tr>\n",
       "      <th>47.839679</th>\n",
       "      <td>-0.656213</td>\n",
       "      <td>-0.662895</td>\n",
       "    </tr>\n",
       "    <tr>\n",
       "      <th>47.937876</th>\n",
       "      <td>-0.727030</td>\n",
       "      <td>-0.730933</td>\n",
       "    </tr>\n",
       "    <tr>\n",
       "      <th>48.036072</th>\n",
       "      <td>-0.790841</td>\n",
       "      <td>-0.792707</td>\n",
       "    </tr>\n",
       "    <tr>\n",
       "      <th>48.134269</th>\n",
       "      <td>-0.847033</td>\n",
       "      <td>-0.844816</td>\n",
       "    </tr>\n",
       "    <tr>\n",
       "      <th>48.232465</th>\n",
       "      <td>-0.895064</td>\n",
       "      <td>-0.889331</td>\n",
       "    </tr>\n",
       "    <tr>\n",
       "      <th>48.330661</th>\n",
       "      <td>-0.934471</td>\n",
       "      <td>-0.924756</td>\n",
       "    </tr>\n",
       "    <tr>\n",
       "      <th>48.428858</th>\n",
       "      <td>-0.964875</td>\n",
       "      <td>-0.951006</td>\n",
       "    </tr>\n",
       "    <tr>\n",
       "      <th>48.527054</th>\n",
       "      <td>-0.985983</td>\n",
       "      <td>-0.967519</td>\n",
       "    </tr>\n",
       "    <tr>\n",
       "      <th>48.625251</th>\n",
       "      <td>-0.997590</td>\n",
       "      <td>-0.973395</td>\n",
       "    </tr>\n",
       "    <tr>\n",
       "      <th>48.723447</th>\n",
       "      <td>-0.999586</td>\n",
       "      <td>-0.971769</td>\n",
       "    </tr>\n",
       "    <tr>\n",
       "      <th>48.821643</th>\n",
       "      <td>-0.991952</td>\n",
       "      <td>-0.958497</td>\n",
       "    </tr>\n",
       "    <tr>\n",
       "      <th>48.919840</th>\n",
       "      <td>-0.974760</td>\n",
       "      <td>-0.938146</td>\n",
       "    </tr>\n",
       "    <tr>\n",
       "      <th>49.018036</th>\n",
       "      <td>-0.948176</td>\n",
       "      <td>-0.906133</td>\n",
       "    </tr>\n",
       "    <tr>\n",
       "      <th>49.116232</th>\n",
       "      <td>-0.912457</td>\n",
       "      <td>-0.867432</td>\n",
       "    </tr>\n",
       "    <tr>\n",
       "      <th>49.214429</th>\n",
       "      <td>-0.867947</td>\n",
       "      <td>-0.819453</td>\n",
       "    </tr>\n",
       "    <tr>\n",
       "      <th>49.312625</th>\n",
       "      <td>-0.815074</td>\n",
       "      <td>-0.764287</td>\n",
       "    </tr>\n",
       "    <tr>\n",
       "      <th>49.410822</th>\n",
       "      <td>-0.754348</td>\n",
       "      <td>-0.702106</td>\n",
       "    </tr>\n",
       "    <tr>\n",
       "      <th>49.509018</th>\n",
       "      <td>-0.686354</td>\n",
       "      <td>-0.632369</td>\n",
       "    </tr>\n",
       "    <tr>\n",
       "      <th>49.607214</th>\n",
       "      <td>-0.611748</td>\n",
       "      <td>-0.558542</td>\n",
       "    </tr>\n",
       "    <tr>\n",
       "      <th>49.705411</th>\n",
       "      <td>-0.531247</td>\n",
       "      <td>-0.477676</td>\n",
       "    </tr>\n",
       "    <tr>\n",
       "      <th>49.803607</th>\n",
       "      <td>-0.445628</td>\n",
       "      <td>-0.394982</td>\n",
       "    </tr>\n",
       "    <tr>\n",
       "      <th>49.901804</th>\n",
       "      <td>-0.355715</td>\n",
       "      <td>-0.306379</td>\n",
       "    </tr>\n",
       "    <tr>\n",
       "      <th>50.000000</th>\n",
       "      <td>-0.262375</td>\n",
       "      <td>-0.216331</td>\n",
       "    </tr>\n",
       "  </tbody>\n",
       "</table>\n",
       "</div>"
      ],
      "text/plain": [
       "                Sin  predictions\n",
       "45.188377  0.934225     0.927285\n",
       "45.286573  0.964693     0.956808\n",
       "45.384770  0.985867     0.975023\n",
       "45.482966  0.997542     0.985112\n",
       "45.581162  0.999606     0.983790\n",
       "45.679359  0.992039     0.973967\n",
       "45.777555  0.974914     0.954850\n",
       "45.875752  0.948396     0.926200\n",
       "45.973948  0.912740     0.888325\n",
       "46.072144  0.868290     0.840936\n",
       "46.170341  0.815475     0.786317\n",
       "46.268537  0.754802     0.723911\n",
       "46.366733  0.686857     0.655283\n",
       "46.464930  0.612295     0.579962\n",
       "46.563126  0.531833     0.499233\n",
       "46.661323  0.446247     0.414767\n",
       "46.759519  0.356361     0.326154\n",
       "46.857715  0.263042     0.235181\n",
       "46.955912  0.167189     0.141153\n",
       "47.054108  0.069725     0.045870\n",
       "47.152305 -0.028411    -0.049700\n",
       "47.250501 -0.126273    -0.145564\n",
       "47.348697 -0.222919    -0.239952\n",
       "47.446894 -0.317417    -0.333020\n",
       "47.545090 -0.408856    -0.422075\n",
       "47.643287 -0.496357    -0.507921\n",
       "47.741483 -0.579075    -0.587996\n",
       "47.839679 -0.656213    -0.662895\n",
       "47.937876 -0.727030    -0.730933\n",
       "48.036072 -0.790841    -0.792707\n",
       "48.134269 -0.847033    -0.844816\n",
       "48.232465 -0.895064    -0.889331\n",
       "48.330661 -0.934471    -0.924756\n",
       "48.428858 -0.964875    -0.951006\n",
       "48.527054 -0.985983    -0.967519\n",
       "48.625251 -0.997590    -0.973395\n",
       "48.723447 -0.999586    -0.971769\n",
       "48.821643 -0.991952    -0.958497\n",
       "48.919840 -0.974760    -0.938146\n",
       "49.018036 -0.948176    -0.906133\n",
       "49.116232 -0.912457    -0.867432\n",
       "49.214429 -0.867947    -0.819453\n",
       "49.312625 -0.815074    -0.764287\n",
       "49.410822 -0.754348    -0.702106\n",
       "49.509018 -0.686354    -0.632369\n",
       "49.607214 -0.611748    -0.558542\n",
       "49.705411 -0.531247    -0.477676\n",
       "49.803607 -0.445628    -0.394982\n",
       "49.901804 -0.355715    -0.306379\n",
       "50.000000 -0.262375    -0.216331"
      ]
     },
     "execution_count": 32,
     "metadata": {},
     "output_type": "execute_result"
    }
   ],
   "source": [
    "test_set"
   ]
  },
  {
   "cell_type": "code",
   "execution_count": 33,
   "id": "9fa8740f",
   "metadata": {},
   "outputs": [
    {
     "data": {
      "text/plain": [
       "<AxesSubplot:>"
      ]
     },
     "execution_count": 33,
     "metadata": {},
     "output_type": "execute_result"
    },
    {
     "data": {
      "image/png": "[encoded data removed]",
      "text/plain": [
       "<Figure size 720x360 with 1 Axes>"
      ]
     },
     "metadata": {
      "needs_background": "light"
     },
     "output_type": "display_data"
    }
   ],
   "source": [
    "test_set.plot(figsize=(10,5))"
   ]
  },
  {
   "cell_type": "code",
   "execution_count": null,
   "id": "ced39cfa",
   "metadata": {},
   "outputs": [],
   "source": []
  }
 ],
 "metadata": {
  "kernelspec": {
   "display_name": "Python 3",
   "language": "python",
   "name": "python3"
  },
  "language_info": {
   "codemirror_mode": {
    "name": "ipython",
    "version": 3
   },
   "file_extension": ".py",
   "mimetype": "text/x-python",
   "name": "python",
   "nbconvert_exporter": "python",
   "pygments_lexer": "ipython3",
   "version": "3.8.8"
  }
 },
 "nbformat": 4,
 "nbformat_minor": 5
}
