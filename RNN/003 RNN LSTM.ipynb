{
 "cells": [
  {
   "cell_type": "code",
   "execution_count": 1,
   "id": "53448816",
   "metadata": {},
   "outputs": [],
   "source": [
    "import pandas as pd\n",
    "import numpy as np\n",
    "import matplotlib.pyplot as plt\n",
    "import seaborn as sbn"
   ]
  },
  {
   "cell_type": "code",
   "execution_count": 2,
   "id": "ce7d961f",
   "metadata": {},
   "outputs": [],
   "source": [
    "data=np.linspace(0,50,501)\n",
    "y=np.sin(data)"
   ]
  },
  {
   "cell_type": "code",
   "execution_count": 3,
   "id": "b94673ef",
   "metadata": {},
   "outputs": [],
   "source": [
    "df=pd.DataFrame(data=y,index=data,columns=[\"Sin\"])"
   ]
  },
  {
   "cell_type": "code",
   "execution_count": 4,
   "id": "8648f14a",
   "metadata": {},
   "outputs": [
    {
     "data": {
      "text/html": [
       "<div>\n",
       "<style scoped>\n",
       "    .dataframe tbody tr th:only-of-type {\n",
       "        vertical-align: middle;\n",
       "    }\n",
       "\n",
       "    .dataframe tbody tr th {\n",
       "        vertical-align: top;\n",
       "    }\n",
       "\n",
       "    .dataframe thead th {\n",
       "        text-align: right;\n",
       "    }\n",
       "</style>\n",
       "<table border=\"1\" class=\"dataframe\">\n",
       "  <thead>\n",
       "    <tr style=\"text-align: right;\">\n",
       "      <th></th>\n",
       "      <th>Sin</th>\n",
       "    </tr>\n",
       "  </thead>\n",
       "  <tbody>\n",
       "    <tr>\n",
       "      <th>0.0</th>\n",
       "      <td>0.000000</td>\n",
       "    </tr>\n",
       "    <tr>\n",
       "      <th>0.1</th>\n",
       "      <td>0.099833</td>\n",
       "    </tr>\n",
       "    <tr>\n",
       "      <th>0.2</th>\n",
       "      <td>0.198669</td>\n",
       "    </tr>\n",
       "    <tr>\n",
       "      <th>0.3</th>\n",
       "      <td>0.295520</td>\n",
       "    </tr>\n",
       "    <tr>\n",
       "      <th>0.4</th>\n",
       "      <td>0.389418</td>\n",
       "    </tr>\n",
       "    <tr>\n",
       "      <th>...</th>\n",
       "      <td>...</td>\n",
       "    </tr>\n",
       "    <tr>\n",
       "      <th>49.6</th>\n",
       "      <td>-0.617439</td>\n",
       "    </tr>\n",
       "    <tr>\n",
       "      <th>49.7</th>\n",
       "      <td>-0.535823</td>\n",
       "    </tr>\n",
       "    <tr>\n",
       "      <th>49.8</th>\n",
       "      <td>-0.448854</td>\n",
       "    </tr>\n",
       "    <tr>\n",
       "      <th>49.9</th>\n",
       "      <td>-0.357400</td>\n",
       "    </tr>\n",
       "    <tr>\n",
       "      <th>50.0</th>\n",
       "      <td>-0.262375</td>\n",
       "    </tr>\n",
       "  </tbody>\n",
       "</table>\n",
       "<p>501 rows × 1 columns</p>\n",
       "</div>"
      ],
      "text/plain": [
       "           Sin\n",
       "0.0   0.000000\n",
       "0.1   0.099833\n",
       "0.2   0.198669\n",
       "0.3   0.295520\n",
       "0.4   0.389418\n",
       "...        ...\n",
       "49.6 -0.617439\n",
       "49.7 -0.535823\n",
       "49.8 -0.448854\n",
       "49.9 -0.357400\n",
       "50.0 -0.262375\n",
       "\n",
       "[501 rows x 1 columns]"
      ]
     },
     "execution_count": 4,
     "metadata": {},
     "output_type": "execute_result"
    }
   ],
   "source": [
    "df"
   ]
  },
  {
   "cell_type": "code",
   "execution_count": 5,
   "id": "25a838c2",
   "metadata": {},
   "outputs": [
    {
     "data": {
      "text/plain": [
       "501"
      ]
     },
     "execution_count": 5,
     "metadata": {},
     "output_type": "execute_result"
    }
   ],
   "source": [
    "len(df)"
   ]
  },
  {
   "cell_type": "code",
   "execution_count": 6,
   "id": "6de8c174",
   "metadata": {},
   "outputs": [
    {
     "data": {
      "text/plain": [
       "50.1"
      ]
     },
     "execution_count": 6,
     "metadata": {},
     "output_type": "execute_result"
    }
   ],
   "source": [
    "test_per=len(df)*0.1\n",
    "test_per"
   ]
  },
  {
   "cell_type": "code",
   "execution_count": 7,
   "id": "98fba82e",
   "metadata": {},
   "outputs": [],
   "source": [
    "train_set=df.iloc[:-int(test_per)]"
   ]
  },
  {
   "cell_type": "code",
   "execution_count": 8,
   "id": "e3c3a6a2",
   "metadata": {},
   "outputs": [
    {
     "data": {
      "text/html": [
       "<div>\n",
       "<style scoped>\n",
       "    .dataframe tbody tr th:only-of-type {\n",
       "        vertical-align: middle;\n",
       "    }\n",
       "\n",
       "    .dataframe tbody tr th {\n",
       "        vertical-align: top;\n",
       "    }\n",
       "\n",
       "    .dataframe thead th {\n",
       "        text-align: right;\n",
       "    }\n",
       "</style>\n",
       "<table border=\"1\" class=\"dataframe\">\n",
       "  <thead>\n",
       "    <tr style=\"text-align: right;\">\n",
       "      <th></th>\n",
       "      <th>Sin</th>\n",
       "    </tr>\n",
       "  </thead>\n",
       "  <tbody>\n",
       "    <tr>\n",
       "      <th>0.0</th>\n",
       "      <td>0.000000</td>\n",
       "    </tr>\n",
       "    <tr>\n",
       "      <th>0.1</th>\n",
       "      <td>0.099833</td>\n",
       "    </tr>\n",
       "    <tr>\n",
       "      <th>0.2</th>\n",
       "      <td>0.198669</td>\n",
       "    </tr>\n",
       "    <tr>\n",
       "      <th>0.3</th>\n",
       "      <td>0.295520</td>\n",
       "    </tr>\n",
       "    <tr>\n",
       "      <th>0.4</th>\n",
       "      <td>0.389418</td>\n",
       "    </tr>\n",
       "    <tr>\n",
       "      <th>...</th>\n",
       "      <td>...</td>\n",
       "    </tr>\n",
       "    <tr>\n",
       "      <th>44.6</th>\n",
       "      <td>0.579164</td>\n",
       "    </tr>\n",
       "    <tr>\n",
       "      <th>44.7</th>\n",
       "      <td>0.657656</td>\n",
       "    </tr>\n",
       "    <tr>\n",
       "      <th>44.8</th>\n",
       "      <td>0.729577</td>\n",
       "    </tr>\n",
       "    <tr>\n",
       "      <th>44.9</th>\n",
       "      <td>0.794208</td>\n",
       "    </tr>\n",
       "    <tr>\n",
       "      <th>45.0</th>\n",
       "      <td>0.850904</td>\n",
       "    </tr>\n",
       "  </tbody>\n",
       "</table>\n",
       "<p>451 rows × 1 columns</p>\n",
       "</div>"
      ],
      "text/plain": [
       "           Sin\n",
       "0.0   0.000000\n",
       "0.1   0.099833\n",
       "0.2   0.198669\n",
       "0.3   0.295520\n",
       "0.4   0.389418\n",
       "...        ...\n",
       "44.6  0.579164\n",
       "44.7  0.657656\n",
       "44.8  0.729577\n",
       "44.9  0.794208\n",
       "45.0  0.850904\n",
       "\n",
       "[451 rows x 1 columns]"
      ]
     },
     "execution_count": 8,
     "metadata": {},
     "output_type": "execute_result"
    }
   ],
   "source": [
    "train_set"
   ]
  },
  {
   "cell_type": "code",
   "execution_count": 9,
   "id": "b0af7842",
   "metadata": {},
   "outputs": [],
   "source": [
    "test_set=df.iloc[-int(test_per):]"
   ]
  },
  {
   "cell_type": "code",
   "execution_count": 10,
   "id": "3ae5eecb",
   "metadata": {},
   "outputs": [
    {
     "data": {
      "text/html": [
       "<div>\n",
       "<style scoped>\n",
       "    .dataframe tbody tr th:only-of-type {\n",
       "        vertical-align: middle;\n",
       "    }\n",
       "\n",
       "    .dataframe tbody tr th {\n",
       "        vertical-align: top;\n",
       "    }\n",
       "\n",
       "    .dataframe thead th {\n",
       "        text-align: right;\n",
       "    }\n",
       "</style>\n",
       "<table border=\"1\" class=\"dataframe\">\n",
       "  <thead>\n",
       "    <tr style=\"text-align: right;\">\n",
       "      <th></th>\n",
       "      <th>Sin</th>\n",
       "    </tr>\n",
       "  </thead>\n",
       "  <tbody>\n",
       "    <tr>\n",
       "      <th>45.1</th>\n",
       "      <td>0.899097</td>\n",
       "    </tr>\n",
       "    <tr>\n",
       "      <th>45.2</th>\n",
       "      <td>0.938307</td>\n",
       "    </tr>\n",
       "    <tr>\n",
       "      <th>45.3</th>\n",
       "      <td>0.968142</td>\n",
       "    </tr>\n",
       "    <tr>\n",
       "      <th>45.4</th>\n",
       "      <td>0.988304</td>\n",
       "    </tr>\n",
       "    <tr>\n",
       "      <th>45.5</th>\n",
       "      <td>0.998591</td>\n",
       "    </tr>\n",
       "    <tr>\n",
       "      <th>45.6</th>\n",
       "      <td>0.998900</td>\n",
       "    </tr>\n",
       "    <tr>\n",
       "      <th>45.7</th>\n",
       "      <td>0.989229</td>\n",
       "    </tr>\n",
       "    <tr>\n",
       "      <th>45.8</th>\n",
       "      <td>0.969673</td>\n",
       "    </tr>\n",
       "    <tr>\n",
       "      <th>45.9</th>\n",
       "      <td>0.940429</td>\n",
       "    </tr>\n",
       "    <tr>\n",
       "      <th>46.0</th>\n",
       "      <td>0.901788</td>\n",
       "    </tr>\n",
       "    <tr>\n",
       "      <th>46.1</th>\n",
       "      <td>0.854137</td>\n",
       "    </tr>\n",
       "    <tr>\n",
       "      <th>46.2</th>\n",
       "      <td>0.797952</td>\n",
       "    </tr>\n",
       "    <tr>\n",
       "      <th>46.3</th>\n",
       "      <td>0.733794</td>\n",
       "    </tr>\n",
       "    <tr>\n",
       "      <th>46.4</th>\n",
       "      <td>0.662304</td>\n",
       "    </tr>\n",
       "    <tr>\n",
       "      <th>46.5</th>\n",
       "      <td>0.584197</td>\n",
       "    </tr>\n",
       "    <tr>\n",
       "      <th>46.6</th>\n",
       "      <td>0.500252</td>\n",
       "    </tr>\n",
       "    <tr>\n",
       "      <th>46.7</th>\n",
       "      <td>0.411309</td>\n",
       "    </tr>\n",
       "    <tr>\n",
       "      <th>46.8</th>\n",
       "      <td>0.318257</td>\n",
       "    </tr>\n",
       "    <tr>\n",
       "      <th>46.9</th>\n",
       "      <td>0.222024</td>\n",
       "    </tr>\n",
       "    <tr>\n",
       "      <th>47.0</th>\n",
       "      <td>0.123573</td>\n",
       "    </tr>\n",
       "    <tr>\n",
       "      <th>47.1</th>\n",
       "      <td>0.023888</td>\n",
       "    </tr>\n",
       "    <tr>\n",
       "      <th>47.2</th>\n",
       "      <td>-0.076037</td>\n",
       "    </tr>\n",
       "    <tr>\n",
       "      <th>47.3</th>\n",
       "      <td>-0.175201</td>\n",
       "    </tr>\n",
       "    <tr>\n",
       "      <th>47.4</th>\n",
       "      <td>-0.272615</td>\n",
       "    </tr>\n",
       "    <tr>\n",
       "      <th>47.5</th>\n",
       "      <td>-0.367305</td>\n",
       "    </tr>\n",
       "    <tr>\n",
       "      <th>47.6</th>\n",
       "      <td>-0.458325</td>\n",
       "    </tr>\n",
       "    <tr>\n",
       "      <th>47.7</th>\n",
       "      <td>-0.544766</td>\n",
       "    </tr>\n",
       "    <tr>\n",
       "      <th>47.8</th>\n",
       "      <td>-0.625764</td>\n",
       "    </tr>\n",
       "    <tr>\n",
       "      <th>47.9</th>\n",
       "      <td>-0.700509</td>\n",
       "    </tr>\n",
       "    <tr>\n",
       "      <th>48.0</th>\n",
       "      <td>-0.768255</td>\n",
       "    </tr>\n",
       "    <tr>\n",
       "      <th>48.1</th>\n",
       "      <td>-0.828324</td>\n",
       "    </tr>\n",
       "    <tr>\n",
       "      <th>48.2</th>\n",
       "      <td>-0.880118</td>\n",
       "    </tr>\n",
       "    <tr>\n",
       "      <th>48.3</th>\n",
       "      <td>-0.923117</td>\n",
       "    </tr>\n",
       "    <tr>\n",
       "      <th>48.4</th>\n",
       "      <td>-0.956893</td>\n",
       "    </tr>\n",
       "    <tr>\n",
       "      <th>48.5</th>\n",
       "      <td>-0.981108</td>\n",
       "    </tr>\n",
       "    <tr>\n",
       "      <th>48.6</th>\n",
       "      <td>-0.995521</td>\n",
       "    </tr>\n",
       "    <tr>\n",
       "      <th>48.7</th>\n",
       "      <td>-0.999986</td>\n",
       "    </tr>\n",
       "    <tr>\n",
       "      <th>48.8</th>\n",
       "      <td>-0.994460</td>\n",
       "    </tr>\n",
       "    <tr>\n",
       "      <th>48.9</th>\n",
       "      <td>-0.978997</td>\n",
       "    </tr>\n",
       "    <tr>\n",
       "      <th>49.0</th>\n",
       "      <td>-0.953753</td>\n",
       "    </tr>\n",
       "    <tr>\n",
       "      <th>49.1</th>\n",
       "      <td>-0.918979</td>\n",
       "    </tr>\n",
       "    <tr>\n",
       "      <th>49.2</th>\n",
       "      <td>-0.875023</td>\n",
       "    </tr>\n",
       "    <tr>\n",
       "      <th>49.3</th>\n",
       "      <td>-0.822324</td>\n",
       "    </tr>\n",
       "    <tr>\n",
       "      <th>49.4</th>\n",
       "      <td>-0.761408</td>\n",
       "    </tr>\n",
       "    <tr>\n",
       "      <th>49.5</th>\n",
       "      <td>-0.692885</td>\n",
       "    </tr>\n",
       "    <tr>\n",
       "      <th>49.6</th>\n",
       "      <td>-0.617439</td>\n",
       "    </tr>\n",
       "    <tr>\n",
       "      <th>49.7</th>\n",
       "      <td>-0.535823</td>\n",
       "    </tr>\n",
       "    <tr>\n",
       "      <th>49.8</th>\n",
       "      <td>-0.448854</td>\n",
       "    </tr>\n",
       "    <tr>\n",
       "      <th>49.9</th>\n",
       "      <td>-0.357400</td>\n",
       "    </tr>\n",
       "    <tr>\n",
       "      <th>50.0</th>\n",
       "      <td>-0.262375</td>\n",
       "    </tr>\n",
       "  </tbody>\n",
       "</table>\n",
       "</div>"
      ],
      "text/plain": [
       "           Sin\n",
       "45.1  0.899097\n",
       "45.2  0.938307\n",
       "45.3  0.968142\n",
       "45.4  0.988304\n",
       "45.5  0.998591\n",
       "45.6  0.998900\n",
       "45.7  0.989229\n",
       "45.8  0.969673\n",
       "45.9  0.940429\n",
       "46.0  0.901788\n",
       "46.1  0.854137\n",
       "46.2  0.797952\n",
       "46.3  0.733794\n",
       "46.4  0.662304\n",
       "46.5  0.584197\n",
       "46.6  0.500252\n",
       "46.7  0.411309\n",
       "46.8  0.318257\n",
       "46.9  0.222024\n",
       "47.0  0.123573\n",
       "47.1  0.023888\n",
       "47.2 -0.076037\n",
       "47.3 -0.175201\n",
       "47.4 -0.272615\n",
       "47.5 -0.367305\n",
       "47.6 -0.458325\n",
       "47.7 -0.544766\n",
       "47.8 -0.625764\n",
       "47.9 -0.700509\n",
       "48.0 -0.768255\n",
       "48.1 -0.828324\n",
       "48.2 -0.880118\n",
       "48.3 -0.923117\n",
       "48.4 -0.956893\n",
       "48.5 -0.981108\n",
       "48.6 -0.995521\n",
       "48.7 -0.999986\n",
       "48.8 -0.994460\n",
       "48.9 -0.978997\n",
       "49.0 -0.953753\n",
       "49.1 -0.918979\n",
       "49.2 -0.875023\n",
       "49.3 -0.822324\n",
       "49.4 -0.761408\n",
       "49.5 -0.692885\n",
       "49.6 -0.617439\n",
       "49.7 -0.535823\n",
       "49.8 -0.448854\n",
       "49.9 -0.357400\n",
       "50.0 -0.262375"
      ]
     },
     "execution_count": 10,
     "metadata": {},
     "output_type": "execute_result"
    }
   ],
   "source": [
    "test_set"
   ]
  },
  {
   "cell_type": "code",
   "execution_count": 11,
   "id": "5b314df3",
   "metadata": {},
   "outputs": [],
   "source": [
    "#As we know in RNN we give output from previos cell to next cell , so we should also scale the y in RNN "
   ]
  },
  {
   "cell_type": "code",
   "execution_count": 12,
   "id": "84066a4a",
   "metadata": {},
   "outputs": [],
   "source": [
    "from sklearn.preprocessing import MinMaxScaler"
   ]
  },
  {
   "cell_type": "code",
   "execution_count": 13,
   "id": "42e2d854",
   "metadata": {},
   "outputs": [
    {
     "data": {
      "text/plain": [
       "MinMaxScaler()"
      ]
     },
     "execution_count": 13,
     "metadata": {},
     "output_type": "execute_result"
    }
   ],
   "source": [
    "scaler=MinMaxScaler()\n",
    "scaler.fit(train_set)"
   ]
  },
  {
   "cell_type": "code",
   "execution_count": 14,
   "id": "333d3519",
   "metadata": {},
   "outputs": [],
   "source": [
    "scaled_train=scaler.transform(train_set)\n",
    "scaled_test=scaler.transform(test_set)"
   ]
  },
  {
   "cell_type": "code",
   "execution_count": 15,
   "id": "494baff1",
   "metadata": {},
   "outputs": [],
   "source": [
    "from tensorflow.keras.preprocessing.sequence import TimeseriesGenerator\n",
    "from tensorflow.keras.models import Sequential\n",
    "from tensorflow.keras.layers import Dense,LSTM,SimpleRNN\n",
    "from tensorflow.keras.callbacks import EarlyStopping"
   ]
  },
  {
   "cell_type": "code",
   "execution_count": 16,
   "id": "8d9eb9d1",
   "metadata": {},
   "outputs": [
    {
     "data": {
      "text/plain": [
       "402"
      ]
     },
     "execution_count": 16,
     "metadata": {},
     "output_type": "execute_result"
    }
   ],
   "source": [
    "length=49\n",
    "batch_size=1\n",
    "generator=TimeseriesGenerator(scaled_train,scaled_train,length=length,batch_size=batch_size)\n",
    "len(generator)"
   ]
  },
  {
   "cell_type": "code",
   "execution_count": 17,
   "id": "1d11807f",
   "metadata": {},
   "outputs": [],
   "source": [
    "val_generator=TimeseriesGenerator(scaled_test,scaled_test,length=length,batch_size=batch_size)"
   ]
  },
  {
   "cell_type": "code",
   "execution_count": 18,
   "id": "37ba1d9d",
   "metadata": {},
   "outputs": [],
   "source": [
    "n_features=1\n",
    "model=Sequential()\n",
    "model.add(LSTM(49,input_shape=(length,n_features)))\n",
    "model.add(Dense(1))\n",
    "model.compile(optimizer=\"adam\",loss=\"mse\")"
   ]
  },
  {
   "cell_type": "code",
   "execution_count": 19,
   "id": "0f67e841",
   "metadata": {},
   "outputs": [],
   "source": [
    "early=EarlyStopping(monitor=\"val_loss\",patience=2)"
   ]
  },
  {
   "cell_type": "code",
   "execution_count": 20,
   "id": "5ca7c0dc",
   "metadata": {},
   "outputs": [
    {
     "name": "stdout",
     "output_type": "stream",
     "text": [
      "Epoch 1/20\n",
      "402/402 [==============================] - 11s 22ms/step - loss: 0.0107 - val_loss: 3.1677e-05\n",
      "Epoch 2/20\n",
      "402/402 [==============================] - 8s 20ms/step - loss: 1.2526e-04 - val_loss: 1.1928e-04\n",
      "Epoch 3/20\n",
      "402/402 [==============================] - 8s 20ms/step - loss: 2.4925e-04 - val_loss: 2.0618e-05\n",
      "Epoch 4/20\n",
      "402/402 [==============================] - 8s 20ms/step - loss: 4.1679e-04 - val_loss: 2.0360e-04\n",
      "Epoch 5/20\n",
      "402/402 [==============================] - 8s 20ms/step - loss: 1.7786e-04 - val_loss: 4.0798e-05\n"
     ]
    }
   ],
   "source": [
    "model.fit(generator,epochs=20,validation_data=val_generator,callbacks=[early]);"
   ]
  },
  {
   "cell_type": "code",
   "execution_count": 21,
   "id": "459c0046",
   "metadata": {},
   "outputs": [
    {
     "data": {
      "text/html": [
       "<div>\n",
       "<style scoped>\n",
       "    .dataframe tbody tr th:only-of-type {\n",
       "        vertical-align: middle;\n",
       "    }\n",
       "\n",
       "    .dataframe tbody tr th {\n",
       "        vertical-align: top;\n",
       "    }\n",
       "\n",
       "    .dataframe thead th {\n",
       "        text-align: right;\n",
       "    }\n",
       "</style>\n",
       "<table border=\"1\" class=\"dataframe\">\n",
       "  <thead>\n",
       "    <tr style=\"text-align: right;\">\n",
       "      <th></th>\n",
       "      <th>loss</th>\n",
       "      <th>val_loss</th>\n",
       "    </tr>\n",
       "  </thead>\n",
       "  <tbody>\n",
       "    <tr>\n",
       "      <th>0</th>\n",
       "      <td>0.010652</td>\n",
       "      <td>0.000032</td>\n",
       "    </tr>\n",
       "    <tr>\n",
       "      <th>1</th>\n",
       "      <td>0.000125</td>\n",
       "      <td>0.000119</td>\n",
       "    </tr>\n",
       "    <tr>\n",
       "      <th>2</th>\n",
       "      <td>0.000249</td>\n",
       "      <td>0.000021</td>\n",
       "    </tr>\n",
       "    <tr>\n",
       "      <th>3</th>\n",
       "      <td>0.000417</td>\n",
       "      <td>0.000204</td>\n",
       "    </tr>\n",
       "    <tr>\n",
       "      <th>4</th>\n",
       "      <td>0.000178</td>\n",
       "      <td>0.000041</td>\n",
       "    </tr>\n",
       "  </tbody>\n",
       "</table>\n",
       "</div>"
      ],
      "text/plain": [
       "       loss  val_loss\n",
       "0  0.010652  0.000032\n",
       "1  0.000125  0.000119\n",
       "2  0.000249  0.000021\n",
       "3  0.000417  0.000204\n",
       "4  0.000178  0.000041"
      ]
     },
     "execution_count": 21,
     "metadata": {},
     "output_type": "execute_result"
    }
   ],
   "source": [
    "results=pd.DataFrame(model.history.history)\n",
    "results"
   ]
  },
  {
   "cell_type": "code",
   "execution_count": 22,
   "id": "e8066bbb",
   "metadata": {},
   "outputs": [
    {
     "data": {
      "text/plain": [
       "<AxesSubplot:>"
      ]
     },
     "execution_count": 22,
     "metadata": {},
     "output_type": "execute_result"
    },
    {
     "data": {
      "image/png": "[encoded data removed]",
      "text/plain": [
       "<Figure size 432x288 with 1 Axes>"
      ]
     },
     "metadata": {
      "needs_background": "light"
     },
     "output_type": "display_data"
    }
   ],
   "source": [
    "results.plot()"
   ]
  },
  {
   "cell_type": "code",
   "execution_count": 23,
   "id": "f137751d",
   "metadata": {},
   "outputs": [
    {
     "data": {
      "text/plain": [
       "(1, 49, 1)"
      ]
     },
     "execution_count": 23,
     "metadata": {},
     "output_type": "execute_result"
    }
   ],
   "source": [
    "first_Eval_batch=scaled_train[-length:].reshape(1,length,n_features)\n",
    "first_Eval_batch.shape"
   ]
  },
  {
   "cell_type": "code",
   "execution_count": 24,
   "id": "9947d3a3",
   "metadata": {},
   "outputs": [],
   "source": [
    "prediction_firs_batch=model.predict(first_Eval_batch)"
   ]
  },
  {
   "cell_type": "code",
   "execution_count": 25,
   "id": "c55a7c48",
   "metadata": {},
   "outputs": [
    {
     "data": {
      "text/plain": [
       "array([[0.956764]], dtype=float32)"
      ]
     },
     "execution_count": 25,
     "metadata": {},
     "output_type": "execute_result"
    }
   ],
   "source": [
    "prediction_firs_batch"
   ]
  },
  {
   "cell_type": "code",
   "execution_count": 26,
   "id": "7161bd52",
   "metadata": {},
   "outputs": [
    {
     "data": {
      "text/plain": [
       "array([0.94955134])"
      ]
     },
     "execution_count": 26,
     "metadata": {},
     "output_type": "execute_result"
    }
   ],
   "source": [
    "#first prediction will be the first item in test data\n",
    "scaled_test[0]"
   ]
  },
  {
   "cell_type": "code",
   "execution_count": 27,
   "id": "817a023a",
   "metadata": {},
   "outputs": [],
   "source": [
    "#now we need to make a for loop to find the next series"
   ]
  },
  {
   "cell_type": "code",
   "execution_count": 28,
   "id": "75797e94",
   "metadata": {},
   "outputs": [],
   "source": [
    "all_predictions=[]\n",
    "eval_batch=scaled_train[-length:].reshape(1,length,n_features)   \n",
    "\n",
    "for i in range(len(test_set)):\n",
    "    prediction_curr_batch=model.predict(eval_batch)\n",
    "    eval_batch= np.append(eval_batch[:,1:,:],[prediction_curr_batch],axis=1)\n",
    "    all_predictions.append(prediction_curr_batch[0])"
   ]
  },
  {
   "cell_type": "code",
   "execution_count": 29,
   "id": "93871ad9",
   "metadata": {},
   "outputs": [
    {
     "data": {
      "text/plain": [
       "[array([0.956764], dtype=float32),\n",
       " array([0.977249], dtype=float32),\n",
       " array([0.99299026], dtype=float32),\n",
       " array([1.0038486], dtype=float32),\n",
       " array([1.0097392], dtype=float32),\n",
       " array([1.0106608], dtype=float32),\n",
       " array([1.0066818], dtype=float32),\n",
       " array([0.9979322], dtype=float32),\n",
       " array([0.98458725], dtype=float32),\n",
       " array([0.96685976], dtype=float32),\n",
       " array([0.94499], dtype=float32),\n",
       " array([0.9192384], dtype=float32),\n",
       " array([0.88987917], dtype=float32),\n",
       " array([0.8571985], dtype=float32),\n",
       " array([0.8214916], dtype=float32),\n",
       " array([0.7830624], dtype=float32),\n",
       " array([0.7422241], dtype=float32),\n",
       " array([0.6993006], dtype=float32),\n",
       " array([0.65462875], dtype=float32),\n",
       " array([0.6085596], dtype=float32),\n",
       " array([0.56145996], dtype=float32),\n",
       " array([0.5137142], dtype=float32),\n",
       " array([0.46572483], dtype=float32),\n",
       " array([0.41791216], dtype=float32),\n",
       " array([0.37071326], dtype=float32),\n",
       " array([0.3245805], dtype=float32),\n",
       " array([0.27997822], dtype=float32),\n",
       " array([0.23737869], dtype=float32),\n",
       " array([0.19725607], dtype=float32),\n",
       " array([0.16007842], dtype=float32),\n",
       " array([0.12629774], dtype=float32),\n",
       " array([0.09633721], dtype=float32),\n",
       " array([0.07057787], dtype=float32),\n",
       " array([0.04934471], dtype=float32),\n",
       " array([0.03289459], dtype=float32),\n",
       " array([0.02140715], dtype=float32),\n",
       " array([0.01498035], dtype=float32),\n",
       " array([0.01363103], dtype=float32),\n",
       " array([0.01729989], dtype=float32),\n",
       " array([0.02586035], dtype=float32),\n",
       " array([0.03912932], dtype=float32),\n",
       " array([0.05687918], dtype=float32),\n",
       " array([0.078849], dtype=float32),\n",
       " array([0.10475443], dtype=float32),\n",
       " array([0.1342956], dtype=float32),\n",
       " array([0.16716285], dtype=float32),\n",
       " array([0.2030402], dtype=float32),\n",
       " array([0.24160668], dtype=float32),\n",
       " array([0.28253636], dtype=float32),\n",
       " array([0.3254966], dtype=float32)]"
      ]
     },
     "execution_count": 29,
     "metadata": {},
     "output_type": "execute_result"
    }
   ],
   "source": [
    "all_predictions"
   ]
  },
  {
   "cell_type": "code",
   "execution_count": 30,
   "id": "c85d9d70",
   "metadata": {},
   "outputs": [],
   "source": [
    "actual_predictions=scaler.inverse_transform(all_predictions)"
   ]
  },
  {
   "cell_type": "code",
   "execution_count": 31,
   "id": "73544efc",
   "metadata": {},
   "outputs": [
    {
     "name": "stderr",
     "output_type": "stream",
     "text": [
      "<ipython-input-31-8474686009f9>:1: SettingWithCopyWarning: \n",
      "A value is trying to be set on a copy of a slice from a DataFrame.\n",
      "Try using .loc[row_indexer,col_indexer] = value instead\n",
      "\n",
      "See the caveats in the documentation: https://pandas.pydata.org/pandas-docs/stable/user_guide/indexing.html#returning-a-view-versus-a-copy\n",
      "  test_set[\"predictions\"]=actual_predictions\n"
     ]
    }
   ],
   "source": [
    "test_set[\"predictions\"]=actual_predictions"
   ]
  },
  {
   "cell_type": "code",
   "execution_count": 32,
   "id": "978ce75f",
   "metadata": {},
   "outputs": [
    {
     "data": {
      "text/html": [
       "<div>\n",
       "<style scoped>\n",
       "    .dataframe tbody tr th:only-of-type {\n",
       "        vertical-align: middle;\n",
       "    }\n",
       "\n",
       "    .dataframe tbody tr th {\n",
       "        vertical-align: top;\n",
       "    }\n",
       "\n",
       "    .dataframe thead th {\n",
       "        text-align: right;\n",
       "    }\n",
       "</style>\n",
       "<table border=\"1\" class=\"dataframe\">\n",
       "  <thead>\n",
       "    <tr style=\"text-align: right;\">\n",
       "      <th></th>\n",
       "      <th>Sin</th>\n",
       "      <th>predictions</th>\n",
       "    </tr>\n",
       "  </thead>\n",
       "  <tbody>\n",
       "    <tr>\n",
       "      <th>45.1</th>\n",
       "      <td>0.899097</td>\n",
       "      <td>0.913522</td>\n",
       "    </tr>\n",
       "    <tr>\n",
       "      <th>45.2</th>\n",
       "      <td>0.938307</td>\n",
       "      <td>0.954492</td>\n",
       "    </tr>\n",
       "    <tr>\n",
       "      <th>45.3</th>\n",
       "      <td>0.968142</td>\n",
       "      <td>0.985974</td>\n",
       "    </tr>\n",
       "    <tr>\n",
       "      <th>45.4</th>\n",
       "      <td>0.988304</td>\n",
       "      <td>1.007691</td>\n",
       "    </tr>\n",
       "    <tr>\n",
       "      <th>45.5</th>\n",
       "      <td>0.998591</td>\n",
       "      <td>1.019472</td>\n",
       "    </tr>\n",
       "    <tr>\n",
       "      <th>45.6</th>\n",
       "      <td>0.998900</td>\n",
       "      <td>1.021315</td>\n",
       "    </tr>\n",
       "    <tr>\n",
       "      <th>45.7</th>\n",
       "      <td>0.989229</td>\n",
       "      <td>1.013357</td>\n",
       "    </tr>\n",
       "    <tr>\n",
       "      <th>45.8</th>\n",
       "      <td>0.969673</td>\n",
       "      <td>0.995858</td>\n",
       "    </tr>\n",
       "    <tr>\n",
       "      <th>45.9</th>\n",
       "      <td>0.940429</td>\n",
       "      <td>0.969168</td>\n",
       "    </tr>\n",
       "    <tr>\n",
       "      <th>46.0</th>\n",
       "      <td>0.901788</td>\n",
       "      <td>0.933714</td>\n",
       "    </tr>\n",
       "    <tr>\n",
       "      <th>46.1</th>\n",
       "      <td>0.854137</td>\n",
       "      <td>0.889975</td>\n",
       "    </tr>\n",
       "    <tr>\n",
       "      <th>46.2</th>\n",
       "      <td>0.797952</td>\n",
       "      <td>0.838472</td>\n",
       "    </tr>\n",
       "    <tr>\n",
       "      <th>46.3</th>\n",
       "      <td>0.733794</td>\n",
       "      <td>0.779754</td>\n",
       "    </tr>\n",
       "    <tr>\n",
       "      <th>46.4</th>\n",
       "      <td>0.662304</td>\n",
       "      <td>0.714393</td>\n",
       "    </tr>\n",
       "    <tr>\n",
       "      <th>46.5</th>\n",
       "      <td>0.584197</td>\n",
       "      <td>0.642980</td>\n",
       "    </tr>\n",
       "    <tr>\n",
       "      <th>46.6</th>\n",
       "      <td>0.500252</td>\n",
       "      <td>0.566122</td>\n",
       "    </tr>\n",
       "    <tr>\n",
       "      <th>46.7</th>\n",
       "      <td>0.411309</td>\n",
       "      <td>0.484446</td>\n",
       "    </tr>\n",
       "    <tr>\n",
       "      <th>46.8</th>\n",
       "      <td>0.318257</td>\n",
       "      <td>0.398600</td>\n",
       "    </tr>\n",
       "    <tr>\n",
       "      <th>46.9</th>\n",
       "      <td>0.222024</td>\n",
       "      <td>0.309257</td>\n",
       "    </tr>\n",
       "    <tr>\n",
       "      <th>47.0</th>\n",
       "      <td>0.123573</td>\n",
       "      <td>0.217119</td>\n",
       "    </tr>\n",
       "    <tr>\n",
       "      <th>47.1</th>\n",
       "      <td>0.023888</td>\n",
       "      <td>0.122921</td>\n",
       "    </tr>\n",
       "    <tr>\n",
       "      <th>47.2</th>\n",
       "      <td>-0.076037</td>\n",
       "      <td>0.027430</td>\n",
       "    </tr>\n",
       "    <tr>\n",
       "      <th>47.3</th>\n",
       "      <td>-0.175201</td>\n",
       "      <td>-0.068548</td>\n",
       "    </tr>\n",
       "    <tr>\n",
       "      <th>47.4</th>\n",
       "      <td>-0.272615</td>\n",
       "      <td>-0.164173</td>\n",
       "    </tr>\n",
       "    <tr>\n",
       "      <th>47.5</th>\n",
       "      <td>-0.367305</td>\n",
       "      <td>-0.258570</td>\n",
       "    </tr>\n",
       "    <tr>\n",
       "      <th>47.6</th>\n",
       "      <td>-0.458325</td>\n",
       "      <td>-0.350834</td>\n",
       "    </tr>\n",
       "    <tr>\n",
       "      <th>47.7</th>\n",
       "      <td>-0.544766</td>\n",
       "      <td>-0.440038</td>\n",
       "    </tr>\n",
       "    <tr>\n",
       "      <th>47.8</th>\n",
       "      <td>-0.625764</td>\n",
       "      <td>-0.525237</td>\n",
       "    </tr>\n",
       "    <tr>\n",
       "      <th>47.9</th>\n",
       "      <td>-0.700509</td>\n",
       "      <td>-0.605481</td>\n",
       "    </tr>\n",
       "    <tr>\n",
       "      <th>48.0</th>\n",
       "      <td>-0.768255</td>\n",
       "      <td>-0.679836</td>\n",
       "    </tr>\n",
       "    <tr>\n",
       "      <th>48.1</th>\n",
       "      <td>-0.828324</td>\n",
       "      <td>-0.747397</td>\n",
       "    </tr>\n",
       "    <tr>\n",
       "      <th>48.2</th>\n",
       "      <td>-0.880118</td>\n",
       "      <td>-0.807317</td>\n",
       "    </tr>\n",
       "    <tr>\n",
       "      <th>48.3</th>\n",
       "      <td>-0.923117</td>\n",
       "      <td>-0.858836</td>\n",
       "    </tr>\n",
       "    <tr>\n",
       "      <th>48.4</th>\n",
       "      <td>-0.956893</td>\n",
       "      <td>-0.901302</td>\n",
       "    </tr>\n",
       "    <tr>\n",
       "      <th>48.5</th>\n",
       "      <td>-0.981108</td>\n",
       "      <td>-0.934202</td>\n",
       "    </tr>\n",
       "    <tr>\n",
       "      <th>48.6</th>\n",
       "      <td>-0.995521</td>\n",
       "      <td>-0.957176</td>\n",
       "    </tr>\n",
       "    <tr>\n",
       "      <th>48.7</th>\n",
       "      <td>-0.999986</td>\n",
       "      <td>-0.970030</td>\n",
       "    </tr>\n",
       "    <tr>\n",
       "      <th>48.8</th>\n",
       "      <td>-0.994460</td>\n",
       "      <td>-0.972728</td>\n",
       "    </tr>\n",
       "    <tr>\n",
       "      <th>48.9</th>\n",
       "      <td>-0.978997</td>\n",
       "      <td>-0.965391</td>\n",
       "    </tr>\n",
       "    <tr>\n",
       "      <th>49.0</th>\n",
       "      <td>-0.953753</td>\n",
       "      <td>-0.948270</td>\n",
       "    </tr>\n",
       "    <tr>\n",
       "      <th>49.1</th>\n",
       "      <td>-0.918979</td>\n",
       "      <td>-0.921732</td>\n",
       "    </tr>\n",
       "    <tr>\n",
       "      <th>49.2</th>\n",
       "      <td>-0.875023</td>\n",
       "      <td>-0.886233</td>\n",
       "    </tr>\n",
       "    <tr>\n",
       "      <th>49.3</th>\n",
       "      <td>-0.822324</td>\n",
       "      <td>-0.842293</td>\n",
       "    </tr>\n",
       "    <tr>\n",
       "      <th>49.4</th>\n",
       "      <td>-0.761408</td>\n",
       "      <td>-0.790483</td>\n",
       "    </tr>\n",
       "    <tr>\n",
       "      <th>49.5</th>\n",
       "      <td>-0.692885</td>\n",
       "      <td>-0.731401</td>\n",
       "    </tr>\n",
       "    <tr>\n",
       "      <th>49.6</th>\n",
       "      <td>-0.617439</td>\n",
       "      <td>-0.665667</td>\n",
       "    </tr>\n",
       "    <tr>\n",
       "      <th>49.7</th>\n",
       "      <td>-0.535823</td>\n",
       "      <td>-0.593913</td>\n",
       "    </tr>\n",
       "    <tr>\n",
       "      <th>49.8</th>\n",
       "      <td>-0.448854</td>\n",
       "      <td>-0.516781</td>\n",
       "    </tr>\n",
       "    <tr>\n",
       "      <th>49.9</th>\n",
       "      <td>-0.357400</td>\n",
       "      <td>-0.434922</td>\n",
       "    </tr>\n",
       "    <tr>\n",
       "      <th>50.0</th>\n",
       "      <td>-0.262375</td>\n",
       "      <td>-0.349002</td>\n",
       "    </tr>\n",
       "  </tbody>\n",
       "</table>\n",
       "</div>"
      ],
      "text/plain": [
       "           Sin  predictions\n",
       "45.1  0.899097     0.913522\n",
       "45.2  0.938307     0.954492\n",
       "45.3  0.968142     0.985974\n",
       "45.4  0.988304     1.007691\n",
       "45.5  0.998591     1.019472\n",
       "45.6  0.998900     1.021315\n",
       "45.7  0.989229     1.013357\n",
       "45.8  0.969673     0.995858\n",
       "45.9  0.940429     0.969168\n",
       "46.0  0.901788     0.933714\n",
       "46.1  0.854137     0.889975\n",
       "46.2  0.797952     0.838472\n",
       "46.3  0.733794     0.779754\n",
       "46.4  0.662304     0.714393\n",
       "46.5  0.584197     0.642980\n",
       "46.6  0.500252     0.566122\n",
       "46.7  0.411309     0.484446\n",
       "46.8  0.318257     0.398600\n",
       "46.9  0.222024     0.309257\n",
       "47.0  0.123573     0.217119\n",
       "47.1  0.023888     0.122921\n",
       "47.2 -0.076037     0.027430\n",
       "47.3 -0.175201    -0.068548\n",
       "47.4 -0.272615    -0.164173\n",
       "47.5 -0.367305    -0.258570\n",
       "47.6 -0.458325    -0.350834\n",
       "47.7 -0.544766    -0.440038\n",
       "47.8 -0.625764    -0.525237\n",
       "47.9 -0.700509    -0.605481\n",
       "48.0 -0.768255    -0.679836\n",
       "48.1 -0.828324    -0.747397\n",
       "48.2 -0.880118    -0.807317\n",
       "48.3 -0.923117    -0.858836\n",
       "48.4 -0.956893    -0.901302\n",
       "48.5 -0.981108    -0.934202\n",
       "48.6 -0.995521    -0.957176\n",
       "48.7 -0.999986    -0.970030\n",
       "48.8 -0.994460    -0.972728\n",
       "48.9 -0.978997    -0.965391\n",
       "49.0 -0.953753    -0.948270\n",
       "49.1 -0.918979    -0.921732\n",
       "49.2 -0.875023    -0.886233\n",
       "49.3 -0.822324    -0.842293\n",
       "49.4 -0.761408    -0.790483\n",
       "49.5 -0.692885    -0.731401\n",
       "49.6 -0.617439    -0.665667\n",
       "49.7 -0.535823    -0.593913\n",
       "49.8 -0.448854    -0.516781\n",
       "49.9 -0.357400    -0.434922\n",
       "50.0 -0.262375    -0.349002"
      ]
     },
     "execution_count": 32,
     "metadata": {},
     "output_type": "execute_result"
    }
   ],
   "source": [
    "test_set"
   ]
  },
  {
   "cell_type": "code",
   "execution_count": 33,
   "id": "9fa8740f",
   "metadata": {},
   "outputs": [
    {
     "data": {
      "text/plain": [
       "<AxesSubplot:>"
      ]
     },
     "execution_count": 33,
     "metadata": {},
     "output_type": "execute_result"
    },
    {
     "data": {
      "image/png": "[encoded data removed]",
      "text/plain": [
       "<Figure size 720x360 with 1 Axes>"
      ]
     },
     "metadata": {
      "needs_background": "light"
     },
     "output_type": "display_data"
    }
   ],
   "source": [
    "test_set.plot(figsize=(10,5))"
   ]
  },
  {
   "cell_type": "code",
   "execution_count": 34,
   "id": "ced39cfa",
   "metadata": {},
   "outputs": [],
   "source": [
    "forecasting=[]\n",
    "eval_batch=scaled_train[-length:].reshape(1,length,n_features)   \n",
    "\n",
    "for i in range(25):\n",
    "    prediction_curr_batch=model.predict(eval_batch)\n",
    "    eval_batch= np.append(eval_batch[:,1:,:],[prediction_curr_batch],axis=1)\n",
    "    forecasting.append(prediction_curr_batch[0])"
   ]
  },
  {
   "cell_type": "code",
   "execution_count": 35,
   "id": "28e8c56c",
   "metadata": {},
   "outputs": [
    {
     "data": {
      "text/plain": [
       "[array([0.956764], dtype=float32),\n",
       " array([0.977249], dtype=float32),\n",
       " array([0.99299026], dtype=float32),\n",
       " array([1.0038486], dtype=float32),\n",
       " array([1.0097392], dtype=float32),\n",
       " array([1.0106608], dtype=float32),\n",
       " array([1.0066818], dtype=float32),\n",
       " array([0.9979322], dtype=float32),\n",
       " array([0.98458725], dtype=float32),\n",
       " array([0.96685976], dtype=float32),\n",
       " array([0.94499], dtype=float32),\n",
       " array([0.9192384], dtype=float32),\n",
       " array([0.88987917], dtype=float32),\n",
       " array([0.8571985], dtype=float32),\n",
       " array([0.8214916], dtype=float32),\n",
       " array([0.7830624], dtype=float32),\n",
       " array([0.7422241], dtype=float32),\n",
       " array([0.6993006], dtype=float32),\n",
       " array([0.65462875], dtype=float32),\n",
       " array([0.6085596], dtype=float32),\n",
       " array([0.56145996], dtype=float32),\n",
       " array([0.5137142], dtype=float32),\n",
       " array([0.46572483], dtype=float32),\n",
       " array([0.41791216], dtype=float32),\n",
       " array([0.37071326], dtype=float32)]"
      ]
     },
     "execution_count": 35,
     "metadata": {},
     "output_type": "execute_result"
    }
   ],
   "source": [
    "forecasting"
   ]
  },
  {
   "cell_type": "code",
   "execution_count": 36,
   "id": "6a3c3713",
   "metadata": {},
   "outputs": [],
   "source": [
    "forecasting=scaler.inverse_transform(forecasting)"
   ]
  },
  {
   "cell_type": "code",
   "execution_count": 37,
   "id": "ca9d811f",
   "metadata": {},
   "outputs": [
    {
     "data": {
      "text/plain": [
       "array([[ 0.9135224 ],\n",
       "       [ 0.95449216],\n",
       "       [ 0.98597437],\n",
       "       [ 1.00769079],\n",
       "       [ 1.01947191],\n",
       "       [ 1.02131511],\n",
       "       [ 1.01335724],\n",
       "       [ 0.99585817],\n",
       "       [ 0.96916849],\n",
       "       [ 0.93371379],\n",
       "       [ 0.88997458],\n",
       "       [ 0.83847182],\n",
       "       [ 0.77975384],\n",
       "       [ 0.71439299],\n",
       "       [ 0.64297981],\n",
       "       [ 0.56612202],\n",
       "       [ 0.48444607],\n",
       "       [ 0.39859974],\n",
       "       [ 0.30925679],\n",
       "       [ 0.21711924],\n",
       "       [ 0.1229207 ],\n",
       "       [ 0.02742994],\n",
       "       [-0.06854803],\n",
       "       [-0.1641726 ],\n",
       "       [-0.25856963]])"
      ]
     },
     "execution_count": 37,
     "metadata": {},
     "output_type": "execute_result"
    }
   ],
   "source": [
    "forecasting"
   ]
  },
  {
   "cell_type": "code",
   "execution_count": 51,
   "id": "1ba3ba57",
   "metadata": {},
   "outputs": [
    {
     "data": {
      "text/plain": [
       "[<matplotlib.lines.Line2D at 0x7f9ffe0d0340>]"
      ]
     },
     "execution_count": 51,
     "metadata": {},
     "output_type": "execute_result"
    },
    {
     "data": {
      "image/png": "[encoded data removed]",
      "text/plain": [
       "<Figure size 432x288 with 1 Axes>"
      ]
     },
     "metadata": {
      "needs_background": "light"
     },
     "output_type": "display_data"
    }
   ],
   "source": [
    "plt.plot(df.index,df['Sin'])\n",
    "plt.plot(np.arange(50.1,52.6,step=0.1),forecasting)"
   ]
  },
  {
   "cell_type": "code",
   "execution_count": 53,
   "id": "3c925d0c",
   "metadata": {},
   "outputs": [],
   "source": [
    "data=np.append(df['Sin'],forecasting)\n",
    "index=np.append(df.index,np.arange(50.1,52.6,step=0.1))"
   ]
  },
  {
   "cell_type": "code",
   "execution_count": 54,
   "id": "5cfbb48f",
   "metadata": {},
   "outputs": [],
   "source": [
    "final_df=pd.DataFrame(data=data,index=index)\n"
   ]
  },
  {
   "cell_type": "code",
   "execution_count": 55,
   "id": "4f348a19",
   "metadata": {},
   "outputs": [
    {
     "data": {
      "text/plain": [
       "<AxesSubplot:>"
      ]
     },
     "execution_count": 55,
     "metadata": {},
     "output_type": "execute_result"
    },
    {
     "data": {
      "image/png": "[encoded data removed]",
      "text/plain": [
       "<Figure size 432x288 with 1 Axes>"
      ]
     },
     "metadata": {
      "needs_background": "light"
     },
     "output_type": "display_data"
    }
   ],
   "source": [
    "final_df.plot()"
   ]
  },
  {
   "cell_type": "code",
   "execution_count": null,
   "id": "d8f1f699",
   "metadata": {},
   "outputs": [],
   "source": []
  }
 ],
 "metadata": {
  "kernelspec": {
   "display_name": "Python 3",
   "language": "python",
   "name": "python3"
  },
  "language_info": {
   "codemirror_mode": {
    "name": "ipython",
    "version": 3
   },
   "file_extension": ".py",
   "mimetype": "text/x-python",
   "name": "python",
   "nbconvert_exporter": "python",
   "pygments_lexer": "ipython3",
   "version": "3.8.8"
  }
 },
 "nbformat": 4,
 "nbformat_minor": 5
}
